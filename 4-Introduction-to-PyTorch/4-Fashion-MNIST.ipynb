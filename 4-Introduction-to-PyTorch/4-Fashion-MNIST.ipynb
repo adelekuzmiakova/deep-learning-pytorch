{
 "cells": [
  {
   "cell_type": "markdown",
   "metadata": {},
   "source": [
    "# Classifying Fashion-MNIST\n",
    "\n",
    "Now it's your turn to build and train a neural network. You'll be using the [Fashion-MNIST dataset](https://github.com/zalandoresearch/fashion-mnist), a drop-in replacement for the MNIST dataset. MNIST is actually quite trivial with neural networks where you can easily achieve better than 97% accuracy. Fashion-MNIST is a set of 28x28 greyscale images of clothes. It's more complex than MNIST, so it's a better representation of the actual performance of your network, and a better representation of datasets you'll use in the real world.\n",
    "\n",
    "<img src='assets/fashion-mnist-sprite.png' width=500px>\n",
    "\n",
    "In this notebook, you'll build your own neural network. For the most part, you could just copy and paste the code from Part 3, but you wouldn't be learning. It's important for you to write the code yourself and get it to work. Feel free to consult the previous notebooks though as you work through this.\n",
    "\n",
    "First off, let's load the dataset through torchvision."
   ]
  },
  {
   "cell_type": "code",
   "execution_count": 47,
   "metadata": {},
   "outputs": [],
   "source": [
    "import torch\n",
    "from torchvision import datasets, transforms\n",
    "from torch import nn\n",
    "import torch.nn.functional as F\n",
    "%matplotlib inline\n",
    "%config InlineBackend.figure_format = 'retina'\n",
    "import helper"
   ]
  },
  {
   "cell_type": "code",
   "execution_count": 48,
   "metadata": {},
   "outputs": [],
   "source": [
    "# Device configuration\n",
    "device = torch.device('cuda' if torch.cuda.is_available() else 'cpu')"
   ]
  },
  {
   "cell_type": "code",
   "execution_count": 49,
   "metadata": {},
   "outputs": [],
   "source": [
    "# Define a transform but don't use normalization\n",
    "#transform = transforms.Compose([transforms.ToTensor(),\n",
    "#                                transforms.Normalize((0.5, 0.5, 0.5), (0.5, 0.5, 0.5))])\n",
    "\n",
    "transform = transforms.Compose([transforms.ToTensor()])\n",
    "\n",
    "# Download and load the training data\n",
    "trainset = datasets.FashionMNIST('~/.pytorch/F_MNIST_data/', download=True, train=True, transform=transform)\n",
    "trainloader = torch.utils.data.DataLoader(trainset, batch_size=64, shuffle=True)\n",
    "\n",
    "# Download and load the test data\n",
    "testset = datasets.FashionMNIST('~/.pytorch/F_MNIST_data/', download=True, train=False, transform=transform)\n",
    "testloader = torch.utils.data.DataLoader(testset, batch_size=64, shuffle=True)"
   ]
  },
  {
   "cell_type": "code",
   "execution_count": 50,
   "metadata": {},
   "outputs": [
    {
     "data": {
      "text/plain": [
       "torch.Size([1, 28, 28])"
      ]
     },
     "execution_count": 50,
     "metadata": {},
     "output_type": "execute_result"
    }
   ],
   "source": [
    "image, label = next(iter(trainloader))\n",
    "image.mean(dim = 0).shape"
   ]
  },
  {
   "cell_type": "code",
   "execution_count": 51,
   "metadata": {},
   "outputs": [
    {
     "name": "stdout",
     "output_type": "stream",
     "text": [
      "tensor([[[0.0000, 0.0000, 0.0000, 0.0000, 0.0010, 0.0011, 0.0011, 0.0089,\n",
      "          0.0203, 0.0499, 0.1295, 0.2156, 0.2336, 0.2169, 0.1732, 0.2081,\n",
      "          0.2403, 0.1719, 0.0967, 0.0241, 0.0199, 0.0066, 0.0039, 0.0042,\n",
      "          0.0022, 0.0000, 0.0000, 0.0000],\n",
      "         [0.0000, 0.0000, 0.0000, 0.0000, 0.0013, 0.0012, 0.0220, 0.0710,\n",
      "          0.1602, 0.2359, 0.3194, 0.4336, 0.4651, 0.4835, 0.4504, 0.4647,\n",
      "          0.4542, 0.3752, 0.3491, 0.2115, 0.1194, 0.0698, 0.0382, 0.0176,\n",
      "          0.0165, 0.0088, 0.0002, 0.0000],\n",
      "         [0.0000, 0.0000, 0.0000, 0.0002, 0.0046, 0.0328, 0.0828, 0.1277,\n",
      "          0.2211, 0.2749, 0.3769, 0.4407, 0.4730, 0.4801, 0.4699, 0.4833,\n",
      "          0.4374, 0.4369, 0.4071, 0.2873, 0.2062, 0.1502, 0.1039, 0.0513,\n",
      "          0.0227, 0.0045, 0.0005, 0.0000],\n",
      "         [0.0000, 0.0001, 0.0005, 0.0003, 0.0213, 0.0675, 0.1188, 0.1838,\n",
      "          0.2692, 0.3214, 0.3981, 0.4406, 0.4448, 0.4635, 0.4735, 0.4751,\n",
      "          0.4551, 0.4458, 0.4348, 0.3564, 0.2669, 0.1934, 0.1193, 0.0934,\n",
      "          0.0282, 0.0019, 0.0005, 0.0001],\n",
      "         [0.0000, 0.0000, 0.0000, 0.0058, 0.0387, 0.1029, 0.1557, 0.2394,\n",
      "          0.2836, 0.3525, 0.4330, 0.4270, 0.4414, 0.4641, 0.4732, 0.4612,\n",
      "          0.4417, 0.4385, 0.4419, 0.4123, 0.3298, 0.2564, 0.1724, 0.1231,\n",
      "          0.0669, 0.0067, 0.0052, 0.0006],\n",
      "         [0.0000, 0.0067, 0.0091, 0.0195, 0.0566, 0.1393, 0.2250, 0.2719,\n",
      "          0.3098, 0.3595, 0.4337, 0.4319, 0.4480, 0.4789, 0.5023, 0.4860,\n",
      "          0.4633, 0.4495, 0.4790, 0.4537, 0.3860, 0.3272, 0.2672, 0.1767,\n",
      "          0.1244, 0.0396, 0.0163, 0.0021],\n",
      "         [0.0000, 0.0183, 0.0308, 0.0561, 0.0804, 0.1746, 0.2651, 0.2958,\n",
      "          0.3322, 0.3591, 0.4373, 0.4415, 0.4728, 0.4772, 0.5159, 0.5040,\n",
      "          0.5108, 0.5203, 0.5172, 0.4935, 0.4079, 0.3656, 0.3126, 0.2238,\n",
      "          0.1652, 0.0936, 0.0591, 0.0057],\n",
      "         [0.0129, 0.0290, 0.0388, 0.0623, 0.1039, 0.1903, 0.2568, 0.3253,\n",
      "          0.3858, 0.3501, 0.4490, 0.4645, 0.4864, 0.4935, 0.5333, 0.5387,\n",
      "          0.5664, 0.5972, 0.5474, 0.5170, 0.4740, 0.3999, 0.3402, 0.2652,\n",
      "          0.1873, 0.1148, 0.0810, 0.0196],\n",
      "         [0.0242, 0.0254, 0.0385, 0.0651, 0.1119, 0.2201, 0.2846, 0.3331,\n",
      "          0.3638, 0.3522, 0.4250, 0.4429, 0.4733, 0.5305, 0.5112, 0.5637,\n",
      "          0.6140, 0.5757, 0.5364, 0.5206, 0.4792, 0.4298, 0.3973, 0.3218,\n",
      "          0.2241, 0.1678, 0.1018, 0.0319],\n",
      "         [0.0268, 0.0499, 0.0454, 0.0688, 0.1400, 0.2464, 0.2849, 0.3420,\n",
      "          0.3828, 0.3320, 0.4100, 0.4634, 0.4771, 0.5616, 0.5369, 0.6115,\n",
      "          0.6491, 0.5892, 0.5124, 0.5316, 0.5166, 0.4635, 0.4374, 0.3567,\n",
      "          0.2573, 0.2231, 0.1178, 0.0325],\n",
      "         [0.0260, 0.0518, 0.0512, 0.0738, 0.1419, 0.2479, 0.2925, 0.3542,\n",
      "          0.3842, 0.3241, 0.4124, 0.4695, 0.4927, 0.5771, 0.5560, 0.6093,\n",
      "          0.6186, 0.5811, 0.4961, 0.5191, 0.5449, 0.4825, 0.4669, 0.3906,\n",
      "          0.2756, 0.2305, 0.1399, 0.0286],\n",
      "         [0.0217, 0.0440, 0.0385, 0.0700, 0.1506, 0.2592, 0.2961, 0.3638,\n",
      "          0.3711, 0.3325, 0.4088, 0.4998, 0.5360, 0.5724, 0.5620, 0.6007,\n",
      "          0.6276, 0.6034, 0.5189, 0.5403, 0.5600, 0.5100, 0.4745, 0.3880,\n",
      "          0.2507, 0.2333, 0.1749, 0.0314],\n",
      "         [0.0256, 0.0391, 0.0403, 0.0688, 0.1370, 0.2694, 0.2971, 0.3604,\n",
      "          0.3784, 0.3662, 0.4485, 0.5227, 0.5376, 0.5806, 0.5839, 0.6034,\n",
      "          0.6294, 0.6154, 0.5629, 0.5217, 0.5242, 0.4974, 0.4625, 0.3839,\n",
      "          0.2703, 0.2370, 0.1756, 0.0406],\n",
      "         [0.0237, 0.0401, 0.0430, 0.0712, 0.1406, 0.2388, 0.2737, 0.3532,\n",
      "          0.3872, 0.4078, 0.4839, 0.5544, 0.6064, 0.6104, 0.5805, 0.5940,\n",
      "          0.6403, 0.6252, 0.5801, 0.4928, 0.4750, 0.4637, 0.4339, 0.3734,\n",
      "          0.2934, 0.2364, 0.1889, 0.0554],\n",
      "         [0.0224, 0.0520, 0.0631, 0.0894, 0.1600, 0.2426, 0.2713, 0.3305,\n",
      "          0.3600, 0.4104, 0.5206, 0.6046, 0.6317, 0.6080, 0.5719, 0.5843,\n",
      "          0.6466, 0.6222, 0.5993, 0.4890, 0.4314, 0.4597, 0.4461, 0.3806,\n",
      "          0.3055, 0.2516, 0.1975, 0.0431],\n",
      "         [0.0287, 0.0712, 0.0730, 0.1012, 0.1779, 0.2698, 0.2979, 0.3181,\n",
      "          0.3623, 0.4757, 0.5680, 0.6233, 0.6404, 0.6150, 0.5827, 0.6044,\n",
      "          0.6588, 0.6322, 0.5961, 0.5054, 0.4246, 0.4522, 0.4374, 0.3852,\n",
      "          0.3052, 0.2608, 0.2214, 0.0356],\n",
      "         [0.0319, 0.0715, 0.0790, 0.1305, 0.2093, 0.2935, 0.3223, 0.3377,\n",
      "          0.4045, 0.5359, 0.6023, 0.6534, 0.6613, 0.6355, 0.6103, 0.6084,\n",
      "          0.6417, 0.6265, 0.6203, 0.5146, 0.4335, 0.4488, 0.4475, 0.3888,\n",
      "          0.3201, 0.2591, 0.2224, 0.0306],\n",
      "         [0.0271, 0.0849, 0.0912, 0.1451, 0.2400, 0.3309, 0.3606, 0.3529,\n",
      "          0.4137, 0.5436, 0.6251, 0.6502, 0.6545, 0.6222, 0.5993, 0.5714,\n",
      "          0.6205, 0.6169, 0.6235, 0.5164, 0.4322, 0.4461, 0.4379, 0.3625,\n",
      "          0.2843, 0.2328, 0.1936, 0.0300],\n",
      "         [0.0227, 0.1160, 0.1253, 0.1447, 0.2281, 0.3059, 0.3172, 0.3163,\n",
      "          0.4386, 0.5412, 0.6018, 0.6544, 0.6395, 0.6050, 0.5942, 0.5955,\n",
      "          0.6404, 0.6388, 0.6240, 0.5272, 0.4162, 0.3979, 0.4140, 0.3586,\n",
      "          0.2743, 0.2438, 0.1900, 0.0371],\n",
      "         [0.0268, 0.1132, 0.1213, 0.1735, 0.2585, 0.3291, 0.3484, 0.3414,\n",
      "          0.4295, 0.5369, 0.6077, 0.6559, 0.6452, 0.6427, 0.6084, 0.6085,\n",
      "          0.6752, 0.6257, 0.6229, 0.4898, 0.3816, 0.3792, 0.4322, 0.3571,\n",
      "          0.2860, 0.2466, 0.1725, 0.0420],\n",
      "         [0.0134, 0.0972, 0.1313, 0.1681, 0.2661, 0.3575, 0.3835, 0.3613,\n",
      "          0.4588, 0.5420, 0.6162, 0.6641, 0.6553, 0.6388, 0.5854, 0.5914,\n",
      "          0.6323, 0.6056, 0.5867, 0.4499, 0.3665, 0.3523, 0.4107, 0.3461,\n",
      "          0.2776, 0.2125, 0.1273, 0.0252],\n",
      "         [0.0210, 0.0599, 0.1072, 0.1681, 0.2580, 0.3412, 0.3676, 0.3422,\n",
      "          0.4495, 0.5150, 0.5982, 0.6358, 0.6392, 0.6183, 0.5905, 0.5846,\n",
      "          0.5949, 0.5471, 0.5194, 0.4107, 0.3265, 0.3256, 0.3954, 0.3257,\n",
      "          0.2505, 0.1847, 0.1078, 0.0276],\n",
      "         [0.0189, 0.0583, 0.0719, 0.1325, 0.2277, 0.3113, 0.3450, 0.3156,\n",
      "          0.4480, 0.5012, 0.5575, 0.6070, 0.5988, 0.5940, 0.5637, 0.5414,\n",
      "          0.5350, 0.4974, 0.4575, 0.3799, 0.3088, 0.3069, 0.3588, 0.2957,\n",
      "          0.2229, 0.1627, 0.0932, 0.0216],\n",
      "         [0.0080, 0.0428, 0.0632, 0.1226, 0.2028, 0.2640, 0.2850, 0.2623,\n",
      "          0.3745, 0.4406, 0.5241, 0.5426, 0.5436, 0.5485, 0.5170, 0.4809,\n",
      "          0.4800, 0.4716, 0.4225, 0.3280, 0.2446, 0.2511, 0.3100, 0.2600,\n",
      "          0.1998, 0.1243, 0.0566, 0.0115],\n",
      "         [0.0083, 0.0339, 0.0561, 0.1015, 0.1830, 0.2441, 0.2515, 0.2236,\n",
      "          0.3246, 0.3898, 0.4596, 0.4899, 0.5036, 0.4754, 0.4649, 0.4379,\n",
      "          0.4634, 0.4461, 0.3794, 0.3091, 0.1990, 0.2199, 0.2768, 0.2346,\n",
      "          0.1782, 0.1020, 0.0486, 0.0037],\n",
      "         [0.0040, 0.0265, 0.0380, 0.0885, 0.1718, 0.2315, 0.2217, 0.1616,\n",
      "          0.2231, 0.3069, 0.3563, 0.3910, 0.4105, 0.3884, 0.3838, 0.3525,\n",
      "          0.3613, 0.3511, 0.3010, 0.2123, 0.1285, 0.1767, 0.2196, 0.1954,\n",
      "          0.1285, 0.0654, 0.0336, 0.0009],\n",
      "         [0.0025, 0.0085, 0.0142, 0.0489, 0.1239, 0.2010, 0.1909, 0.1534,\n",
      "          0.2138, 0.2895, 0.3537, 0.3792, 0.4015, 0.3996, 0.3593, 0.3346,\n",
      "          0.3441, 0.3419, 0.2797, 0.2064, 0.1286, 0.1514, 0.2124, 0.1833,\n",
      "          0.1110, 0.0490, 0.0214, 0.0000],\n",
      "         [0.0001, 0.0017, 0.0047, 0.0234, 0.0509, 0.0906, 0.0786, 0.0472,\n",
      "          0.0748, 0.1301, 0.1793, 0.2238, 0.2358, 0.2143, 0.1891, 0.1926,\n",
      "          0.2132, 0.2134, 0.1422, 0.0971, 0.0402, 0.0586, 0.1186, 0.0960,\n",
      "          0.0560, 0.0112, 0.0033, 0.0000]]])\n",
      "tensor(0.2994)\n"
     ]
    }
   ],
   "source": [
    "# Average image in a batch:\n",
    "print(image.mean(dim = 0))\n",
    "print(image.mean(dim = 0).mean())"
   ]
  },
  {
   "cell_type": "code",
   "execution_count": 52,
   "metadata": {},
   "outputs": [
    {
     "data": {
      "image/png": "[encoded data removed]",
      "text/plain": [
       "<Figure size 432x288 with 1 Axes>"
      ]
     },
     "metadata": {
      "image/png": {
       "height": 233,
       "width": 233
      },
      "needs_background": "light"
     },
     "output_type": "display_data"
    }
   ],
   "source": [
    "helper.imshow(image[7,:]);"
   ]
  },
  {
   "cell_type": "markdown",
   "metadata": {},
   "source": [
    "## Building and train the network\n",
    "\n",
    "Here you should define your network. As with MNIST, each image is 28x28 which is a total of 784 pixels, and there are 10 classes. You should include at least one hidden layer. We suggest you use ReLU activations for the layers and to return the logits or log-softmax from the forward pass. It's up to you how many layers you add and the size of those layers.\n",
    "\n",
    "\n",
    "Now you should create your network and train it. First you'll want to define [the criterion](http://pytorch.org/docs/master/nn.html#loss-functions) ( something like `nn.CrossEntropyLoss`) and [the optimizer](http://pytorch.org/docs/master/optim.html) (typically `optim.SGD` or `optim.Adam`).\n",
    "\n",
    "Then write the training code. Remember the training pass is a fairly straightforward process:\n",
    "\n",
    "* Make a forward pass through the network to get the logits \n",
    "* Use the logits to calculate the loss\n",
    "* Perform a backward pass through the network with `loss.backward()` to calculate the gradients\n",
    "* Take a step with the optimizer to update the weights\n",
    "\n",
    "By adjusting the hyperparameters (hidden units, learning rate, etc), you should be able to get the training loss below 0.4."
   ]
  },
  {
   "cell_type": "code",
   "execution_count": 53,
   "metadata": {},
   "outputs": [
    {
     "data": {
      "text/plain": [
       "Sequential(\n",
       "  (0): Linear(in_features=784, out_features=128, bias=True)\n",
       "  (1): ReLU()\n",
       "  (2): Linear(in_features=128, out_features=64, bias=True)\n",
       "  (3): ReLU()\n",
       "  (4): Linear(in_features=64, out_features=10, bias=True)\n",
       "  (5): LogSoftmax()\n",
       ")"
      ]
     },
     "execution_count": 53,
     "metadata": {},
     "output_type": "execute_result"
    }
   ],
   "source": [
    "model = nn.Sequential(nn.Linear(784, 128),\n",
    "                      nn.ReLU(),\n",
    "                      nn.Linear(128, 64),\n",
    "                      nn.ReLU(),\n",
    "                      nn.Linear(64, 10),\n",
    "                      nn.LogSoftmax(dim=1))\n",
    "\n",
    "model"
   ]
  },
  {
   "cell_type": "code",
   "execution_count": 54,
   "metadata": {},
   "outputs": [
    {
     "data": {
      "text/plain": [
       "Network(\n",
       "  (fc1): Linear(in_features=784, out_features=128, bias=True)\n",
       "  (fc2): Linear(in_features=128, out_features=64, bias=True)\n",
       "  (fc3): Linear(in_features=64, out_features=10, bias=True)\n",
       "  (ReLU): ReLU()\n",
       "  (logsoftmax): LogSoftmax()\n",
       ")"
      ]
     },
     "execution_count": 54,
     "metadata": {},
     "output_type": "execute_result"
    }
   ],
   "source": [
    "class Network(nn.Module):\n",
    "    def __init__(self):\n",
    "        super().__init__()\n",
    "        \n",
    "        # Inputs to hidden layer linear transformation\n",
    "        self.fc1 = nn.Linear(784, 128)\n",
    "        self.fc2 = nn.Linear(128, 64)\n",
    "        self.fc3 = nn.Linear(64, 10)\n",
    "        # Define ReLU activation and log-softmax output \n",
    "        self.ReLU = nn.ReLU()\n",
    "        self.logsoftmax = nn.LogSoftmax(dim=1)\n",
    "        \n",
    "    def forward(self, x):\n",
    "        # Pass the input tensor through each of our operations\n",
    "        x = self.fc1(x)\n",
    "        x = self.ReLU(x)\n",
    "        x = self.fc2(x)\n",
    "        x = self.ReLU(x)\n",
    "        x = self.fc3(x)\n",
    "        x = self.logsoftmax(x)\n",
    "        return x\n",
    "    \n",
    "model = Network()\n",
    "model"
   ]
  },
  {
   "cell_type": "code",
   "execution_count": 55,
   "metadata": {},
   "outputs": [
    {
     "name": "stdout",
     "output_type": "stream",
     "text": [
      "Training loss for epoch # 0: 0.5694557493334131\n",
      "Training loss for epoch # 1: 0.39723556217894374\n",
      "Training loss for epoch # 2: 0.3556579046014911\n",
      "Training loss for epoch # 3: 0.32601035233817377\n",
      "Training loss for epoch # 4: 0.30795767576074295\n",
      "Training loss for epoch # 5: 0.2953592455749319\n",
      "Training loss for epoch # 6: 0.2802769504090362\n",
      "Training loss for epoch # 7: 0.2704023537494099\n",
      "Training loss for epoch # 8: 0.2577587871877814\n",
      "Training loss for epoch # 9: 0.2516948783845663\n"
     ]
    }
   ],
   "source": [
    "criterion = nn.NLLLoss()\n",
    "optimizer = optim.Adam(model.parameters(), lr = 0.001)\n",
    "\n",
    "epochs = 10\n",
    "for e in range(epochs):\n",
    "    running_loss = 0\n",
    "    for images, labels in trainloader:\n",
    "        # Flatten MNIST images into a 784 long vector\n",
    "        images = images.view(images.shape[0], -1)\n",
    "    \n",
    "        # Training pass\n",
    "        optimizer.zero_grad()\n",
    "        # Forward pass, get our log-probabilities\n",
    "        log_prob = model.forward(images)\n",
    "        loss = criterion(log_prob, labels)\n",
    "        loss.backward()\n",
    "        optimizer.step()\n",
    "        \n",
    "        running_loss += loss.item()\n",
    "    else:\n",
    "        print(\"Training loss for epoch # \" + str(e) + \": \" + str(running_loss/len(trainloader)))"
   ]
  },
  {
   "cell_type": "code",
   "execution_count": 56,
   "metadata": {},
   "outputs": [
    {
     "data": {
      "image/png": "[encoded data removed]",
      "text/plain": [
       "<Figure size 432x648 with 2 Axes>"
      ]
     },
     "metadata": {
      "image/png": {
       "height": 206,
       "width": 423
      },
      "needs_background": "light"
     },
     "output_type": "display_data"
    }
   ],
   "source": [
    "# Test out your network!\n",
    "dataiter = iter(testloader)\n",
    "images, labels = dataiter.next()\n",
    "\n",
    "# look at a random image\n",
    "image_index = 3\n",
    "img = images[image_index]\n",
    "# Convert 2D image to 1D vector\n",
    "img = img.resize_(1, 784)\n",
    "\n",
    "# In the test phase, we don't need to compute gradients (for memory efficiency)\n",
    "with torch.no_grad():\n",
    "    log_probabilities = model.forward(img)\n",
    "    # Output of the network are logits, need to take softmax for probabilities\n",
    "    probabilities = torch.exp(log_probabilities)\n",
    "\n",
    "\n",
    "helper.view_classify(img.resize_(1, 28, 28), probabilities, version='Fashion')"
   ]
  },
  {
   "cell_type": "code",
   "execution_count": 58,
   "metadata": {},
   "outputs": [
    {
     "name": "stdout",
     "output_type": "stream",
     "text": [
      "Accuracy of the network on the 10000 test images: 88.05 %\n"
     ]
    }
   ],
   "source": [
    "# Calculating test accuracy:\n",
    "with torch.no_grad():\n",
    "    correct = 0\n",
    "    total = 0\n",
    "    for images, labels in testloader:\n",
    "        images = images.reshape(-1, 28*28).to(device)\n",
    "        labels = labels.to(device)\n",
    "        outputs = model(images)\n",
    "        _, predicted = torch.max(outputs.data, 1)\n",
    "        total += labels.size(0)\n",
    "        correct += (predicted == labels).sum().item()\n",
    "\n",
    "print('Accuracy of the network on the 10000 test images: {} %'.format(100 * correct / total))"
   ]
  },
  {
   "cell_type": "code",
   "execution_count": 61,
   "metadata": {},
   "outputs": [
    {
     "data": {
      "text/plain": [
       "10000"
      ]
     },
     "execution_count": 61,
     "metadata": {},
     "output_type": "execute_result"
    }
   ],
   "source": [
    "total"
   ]
  },
  {
   "cell_type": "code",
   "execution_count": null,
   "metadata": {},
   "outputs": [],
   "source": []
  }
 ],
 "metadata": {
  "kernelspec": {
   "display_name": "Python 3",
   "language": "python",
   "name": "python3"
  },
  "language_info": {
   "codemirror_mode": {
    "name": "ipython",
    "version": 3
   },
   "file_extension": ".py",
   "mimetype": "text/x-python",
   "name": "python",
   "nbconvert_exporter": "python",
   "pygments_lexer": "ipython3",
   "version": "3.5.2"
  }
 },
 "nbformat": 4,
 "nbformat_minor": 2
}

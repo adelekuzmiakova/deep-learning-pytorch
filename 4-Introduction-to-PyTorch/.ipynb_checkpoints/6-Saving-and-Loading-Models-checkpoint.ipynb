{
 "cells": [
  {
   "cell_type": "markdown",
   "metadata": {},
   "source": [
    "# Recap: What we have been doing\n",
    "\n",
    "\n",
    "`1-Tensors-in-PyTorch.ipynb:` introduces a tensor representation in PyTorch\n",
    "\n",
    "`2-Neural-networks-in-PyTorch.ipynb:` introduces a basic framework for defining neural networks via the `nn` module\n",
    "\n",
    "`3-Training-neural-networks.ipynb:` introduces loss and backprop to improve predictions\n",
    "\n",
    "`4-Fashion-MNIST.ipynb:` walks through the feed-forward neural network on Fashion MNIST data\n",
    "\n",
    "`5-Inference-and-Validation.ipynb:` introduces dropout"
   ]
  },
  {
   "cell_type": "markdown",
   "metadata": {},
   "source": [
    "# Saving and loading a model\n",
    "\n",
    "In this notebook we will learn how to save and load our models. This is handy because we will often want to load previously trained models to use in making predictions or to continue training on new data."
   ]
  },
  {
   "cell_type": "code",
   "execution_count": 25,
   "metadata": {},
   "outputs": [],
   "source": [
    "import torch\n",
    "from torchvision import datasets, transforms\n",
    "from torch import nn, optim\n",
    "import torch.nn.functional as F\n",
    "import matplotlib.pyplot as plt\n",
    "%matplotlib inline\n",
    "%config InlineBackend.figure_format = 'retina'\n",
    "import helper\n",
    "import fc_model"
   ]
  },
  {
   "cell_type": "code",
   "execution_count": 26,
   "metadata": {},
   "outputs": [],
   "source": [
    "transform = transforms.Compose([transforms.ToTensor()])\n",
    "\n",
    "# Download and load the training data\n",
    "trainset = datasets.FashionMNIST('~/.pytorch/F_MNIST_data/', download=True, train=True, transform=transform)\n",
    "trainloader = torch.utils.data.DataLoader(trainset, batch_size=64, shuffle=True)\n",
    "\n",
    "# Download and load the test data\n",
    "testset = datasets.FashionMNIST('~/.pytorch/F_MNIST_data/', download=True, train=False, transform=transform)\n",
    "testloader = torch.utils.data.DataLoader(testset, batch_size=64, shuffle=True)"
   ]
  },
  {
   "cell_type": "code",
   "execution_count": 27,
   "metadata": {},
   "outputs": [
    {
     "data": {
      "text/plain": [
       "<matplotlib.axes._subplots.AxesSubplot at 0x12096fac8>"
      ]
     },
     "execution_count": 27,
     "metadata": {},
     "output_type": "execute_result"
    },
    {
     "data": {
      "image/png": "[encoded data removed]",
      "text/plain": [
       "<Figure size 432x288 with 1 Axes>"
      ]
     },
     "metadata": {
      "image/png": {
       "height": 233,
       "width": 233
      },
      "needs_background": "light"
     },
     "output_type": "display_data"
    }
   ],
   "source": [
    "# Here we can see one of the images:\n",
    "image, label = next(iter(trainloader))\n",
    "helper.imshow(image[10,:])"
   ]
  },
  {
   "cell_type": "code",
   "execution_count": 28,
   "metadata": {},
   "outputs": [
    {
     "data": {
      "text/plain": [
       "tensor([5, 2, 3, 7, 7, 4, 3, 6, 4, 2, 3, 2, 7, 8, 4, 9, 7, 7, 5, 7, 8, 9, 3, 9,\n",
       "        4, 9, 1, 6, 6, 6, 9, 6, 3, 1, 4, 9, 3, 3, 0, 2, 8, 6, 3, 0, 2, 7, 3, 8,\n",
       "        6, 1, 0, 9, 4, 3, 7, 8, 6, 2, 3, 7, 9, 6, 0, 5])"
      ]
     },
     "execution_count": 28,
     "metadata": {},
     "output_type": "execute_result"
    }
   ],
   "source": [
    "label"
   ]
  },
  {
   "cell_type": "code",
   "execution_count": 33,
   "metadata": {},
   "outputs": [],
   "source": [
    "# Create the network, define the criterion and optimizer\n",
    "\n",
    "model = fc_model.Network(784, 10, [512, 256, 128, 64])\n",
    "criterion = nn.NLLLoss()\n",
    "optimizer = optim.Adam(model.parameters(), lr=0.001)"
   ]
  },
  {
   "cell_type": "code",
   "execution_count": 34,
   "metadata": {},
   "outputs": [
    {
     "data": {
      "text/plain": [
       "Network(\n",
       "  (hidden_layers): ModuleList(\n",
       "    (0): Linear(in_features=784, out_features=512, bias=True)\n",
       "    (1): Linear(in_features=512, out_features=256, bias=True)\n",
       "    (2): Linear(in_features=256, out_features=128, bias=True)\n",
       "    (3): Linear(in_features=128, out_features=64, bias=True)\n",
       "  )\n",
       "  (output): Linear(in_features=64, out_features=10, bias=True)\n",
       "  (dropout): Dropout(p=0.5)\n",
       ")"
      ]
     },
     "execution_count": 34,
     "metadata": {},
     "output_type": "execute_result"
    }
   ],
   "source": [
    "model"
   ]
  },
  {
   "cell_type": "code",
   "execution_count": 35,
   "metadata": {},
   "outputs": [
    {
     "name": "stdout",
     "output_type": "stream",
     "text": [
      "Epoch: 1/2..  Training Loss: 2.242..  Test Loss: 1.934..  Test Accuracy: 0.267\n",
      "Epoch: 1/2..  Training Loss: 1.706..  Test Loss: 1.180..  Test Accuracy: 0.510\n",
      "Epoch: 1/2..  Training Loss: 1.309..  Test Loss: 0.959..  Test Accuracy: 0.567\n",
      "Epoch: 1/2..  Training Loss: 1.120..  Test Loss: 0.890..  Test Accuracy: 0.596\n",
      "Epoch: 1/2..  Training Loss: 1.018..  Test Loss: 0.808..  Test Accuracy: 0.672\n",
      "Epoch: 1/2..  Training Loss: 0.972..  Test Loss: 0.768..  Test Accuracy: 0.681\n",
      "Epoch: 1/2..  Training Loss: 0.909..  Test Loss: 0.702..  Test Accuracy: 0.742\n",
      "Epoch: 1/2..  Training Loss: 0.828..  Test Loss: 0.683..  Test Accuracy: 0.718\n",
      "Epoch: 1/2..  Training Loss: 0.784..  Test Loss: 0.659..  Test Accuracy: 0.769\n",
      "Epoch: 1/2..  Training Loss: 0.784..  Test Loss: 0.660..  Test Accuracy: 0.728\n",
      "Epoch: 1/2..  Training Loss: 0.759..  Test Loss: 0.618..  Test Accuracy: 0.768\n",
      "Epoch: 1/2..  Training Loss: 0.736..  Test Loss: 0.608..  Test Accuracy: 0.767\n",
      "Epoch: 1/2..  Training Loss: 0.742..  Test Loss: 0.615..  Test Accuracy: 0.773\n",
      "Epoch: 1/2..  Training Loss: 0.689..  Test Loss: 0.612..  Test Accuracy: 0.742\n",
      "Epoch: 1/2..  Training Loss: 0.710..  Test Loss: 0.610..  Test Accuracy: 0.743\n",
      "Epoch: 1/2..  Training Loss: 0.710..  Test Loss: 0.594..  Test Accuracy: 0.754\n",
      "Epoch: 1/2..  Training Loss: 0.732..  Test Loss: 0.573..  Test Accuracy: 0.783\n",
      "Epoch: 1/2..  Training Loss: 0.720..  Test Loss: 0.616..  Test Accuracy: 0.757\n",
      "Epoch: 1/2..  Training Loss: 0.680..  Test Loss: 0.570..  Test Accuracy: 0.784\n",
      "Epoch: 1/2..  Training Loss: 0.654..  Test Loss: 0.549..  Test Accuracy: 0.770\n",
      "Epoch: 1/2..  Training Loss: 0.642..  Test Loss: 0.553..  Test Accuracy: 0.777\n",
      "Epoch: 1/2..  Training Loss: 0.643..  Test Loss: 0.538..  Test Accuracy: 0.791\n",
      "Epoch: 1/2..  Training Loss: 0.639..  Test Loss: 0.549..  Test Accuracy: 0.775\n",
      "Epoch: 2/2..  Training Loss: 0.680..  Test Loss: 0.545..  Test Accuracy: 0.797\n",
      "Epoch: 2/2..  Training Loss: 0.602..  Test Loss: 0.532..  Test Accuracy: 0.791\n",
      "Epoch: 2/2..  Training Loss: 0.669..  Test Loss: 0.535..  Test Accuracy: 0.789\n",
      "Epoch: 2/2..  Training Loss: 0.634..  Test Loss: 0.529..  Test Accuracy: 0.791\n",
      "Epoch: 2/2..  Training Loss: 0.607..  Test Loss: 0.551..  Test Accuracy: 0.787\n",
      "Epoch: 2/2..  Training Loss: 0.606..  Test Loss: 0.517..  Test Accuracy: 0.799\n",
      "Epoch: 2/2..  Training Loss: 0.596..  Test Loss: 0.530..  Test Accuracy: 0.785\n",
      "Epoch: 2/2..  Training Loss: 0.617..  Test Loss: 0.513..  Test Accuracy: 0.804\n",
      "Epoch: 2/2..  Training Loss: 0.583..  Test Loss: 0.509..  Test Accuracy: 0.798\n",
      "Epoch: 2/2..  Training Loss: 0.614..  Test Loss: 0.533..  Test Accuracy: 0.796\n",
      "Epoch: 2/2..  Training Loss: 0.601..  Test Loss: 0.531..  Test Accuracy: 0.789\n",
      "Epoch: 2/2..  Training Loss: 0.620..  Test Loss: 0.517..  Test Accuracy: 0.804\n",
      "Epoch: 2/2..  Training Loss: 0.605..  Test Loss: 0.546..  Test Accuracy: 0.789\n",
      "Epoch: 2/2..  Training Loss: 0.611..  Test Loss: 0.518..  Test Accuracy: 0.799\n",
      "Epoch: 2/2..  Training Loss: 0.599..  Test Loss: 0.508..  Test Accuracy: 0.801\n",
      "Epoch: 2/2..  Training Loss: 0.591..  Test Loss: 0.513..  Test Accuracy: 0.800\n",
      "Epoch: 2/2..  Training Loss: 0.582..  Test Loss: 0.515..  Test Accuracy: 0.797\n",
      "Epoch: 2/2..  Training Loss: 0.599..  Test Loss: 0.515..  Test Accuracy: 0.800\n",
      "Epoch: 2/2..  Training Loss: 0.586..  Test Loss: 0.494..  Test Accuracy: 0.806\n",
      "Epoch: 2/2..  Training Loss: 0.587..  Test Loss: 0.484..  Test Accuracy: 0.812\n",
      "Epoch: 2/2..  Training Loss: 0.583..  Test Loss: 0.485..  Test Accuracy: 0.811\n",
      "Epoch: 2/2..  Training Loss: 0.539..  Test Loss: 0.496..  Test Accuracy: 0.806\n",
      "Epoch: 2/2..  Training Loss: 0.601..  Test Loss: 0.491..  Test Accuracy: 0.810\n"
     ]
    }
   ],
   "source": [
    "fc_model.train(model, trainloader, testloader, criterion, optimizer, epochs=2)"
   ]
  },
  {
   "cell_type": "markdown",
   "metadata": {},
   "source": [
    "As we can imagine, it is very impractical to train the network everytime we use it. Instead, we can save trained networks and load them everytime to train them more or to make predictions. The parameters for a PyTorch network are stored in a model's `state.dict`, which contains the weight and bias matrices for each of our layers."
   ]
  },
  {
   "cell_type": "code",
   "execution_count": 39,
   "metadata": {},
   "outputs": [
    {
     "data": {
      "text/plain": [
       "Network(\n",
       "  (hidden_layers): ModuleList(\n",
       "    (0): Linear(in_features=784, out_features=512, bias=True)\n",
       "    (1): Linear(in_features=512, out_features=256, bias=True)\n",
       "    (2): Linear(in_features=256, out_features=128, bias=True)\n",
       "    (3): Linear(in_features=128, out_features=64, bias=True)\n",
       "  )\n",
       "  (output): Linear(in_features=64, out_features=10, bias=True)\n",
       "  (dropout): Dropout(p=0.5)\n",
       ")"
      ]
     },
     "execution_count": 39,
     "metadata": {},
     "output_type": "execute_result"
    }
   ],
   "source": [
    "model"
   ]
  },
  {
   "cell_type": "code",
   "execution_count": 37,
   "metadata": {},
   "outputs": [
    {
     "data": {
      "text/plain": [
       "OrderedDict([('hidden_layers.0.weight',\n",
       "              tensor([[ 0.0354,  0.0118, -0.0117,  ...,  0.0083,  0.0075, -0.0140],\n",
       "                      [ 0.0281, -0.0094,  0.0686,  ..., -0.0598, -0.0028,  0.0394],\n",
       "                      [ 0.0203,  0.0137,  0.0013,  ..., -0.0356,  0.0322,  0.0141],\n",
       "                      ...,\n",
       "                      [ 0.0583,  0.0457, -0.0042,  ..., -0.0084, -0.0323,  0.0038],\n",
       "                      [ 0.0126, -0.0202,  0.0190,  ...,  0.0055,  0.0213,  0.0179],\n",
       "                      [ 0.0149,  0.0684,  0.0478,  ...,  0.0060, -0.0020,  0.0830]])),\n",
       "             ('hidden_layers.0.bias',\n",
       "              tensor([ 0.0142,  0.0922, -0.0376,  0.0231,  0.0065, -0.0263, -0.0205,  0.0459,\n",
       "                       0.0135,  0.1402, -0.0228, -0.0213, -0.0380, -0.0315, -0.0299,  0.1137,\n",
       "                       0.0154, -0.0350, -0.0743,  0.0621,  0.0689, -0.1075, -0.0286, -0.0140,\n",
       "                      -0.0057, -0.0666, -0.0044, -0.0327,  0.1079,  0.0025, -0.0272, -0.0277,\n",
       "                       0.0239, -0.0063, -0.0306,  0.0270,  0.2355, -0.0215,  0.0025,  0.2175,\n",
       "                       0.0992,  0.0041, -0.0435,  0.0360,  0.0250, -0.0278,  0.0039,  0.0172,\n",
       "                      -0.0105,  0.1399,  0.0044,  0.0821,  0.0321,  0.0175,  0.1093,  0.0040,\n",
       "                       0.2420,  0.2639, -0.0358, -0.0231, -0.0292,  0.0133,  0.1151,  0.0072,\n",
       "                       0.0682,  0.0801,  0.0201, -0.0460, -0.0273,  0.0094,  0.0882,  0.0150,\n",
       "                       0.0026, -0.0333,  0.0882,  0.2056, -0.0082, -0.0224, -0.0230,  0.0076,\n",
       "                       0.0096,  0.0134, -0.0108,  0.0303,  0.0407, -0.0194, -0.0141, -0.0108,\n",
       "                      -0.0110,  0.0394, -0.0160, -0.1097, -0.0190,  0.0555,  0.1369, -0.0194,\n",
       "                      -0.0315,  0.0152, -0.0343, -0.0362,  0.0234,  0.0488,  0.0740,  0.1851,\n",
       "                      -0.0372,  0.0028, -0.0250, -0.0261, -0.0347,  0.0609, -0.0285,  0.1200,\n",
       "                       0.0753,  0.1332,  0.1235, -0.0280, -0.0101,  0.2895, -0.0064, -0.0278,\n",
       "                      -0.0515, -0.0149,  0.0069,  0.0099,  0.0941, -0.0180, -0.0362, -0.0239,\n",
       "                      -0.0773, -0.0289, -0.1049,  0.0142,  0.0108,  0.0540,  0.0866, -0.0512,\n",
       "                       0.0532,  0.0952,  0.1014, -0.0283,  0.1073, -0.0438, -0.0023,  0.0728,\n",
       "                      -0.0043,  0.0197, -0.1930, -0.1115,  0.1307,  0.0340,  0.0503,  0.0742,\n",
       "                       0.0987, -0.0368, -0.1408,  0.0266,  0.0683, -0.0039, -0.0310,  0.1028,\n",
       "                      -0.0414, -0.0003,  0.2366,  0.0022,  0.0677,  0.0011,  0.0934, -0.0199,\n",
       "                      -0.0337, -0.0985,  0.0185,  0.0886, -0.0332,  0.0049, -0.2117, -0.0214,\n",
       "                       0.0625, -0.0523,  0.0209, -0.0592,  0.0583,  0.0098, -0.0134, -0.0798,\n",
       "                      -0.0357, -0.0044,  0.0455,  0.0263, -0.0341,  0.2168,  0.0006, -0.0330,\n",
       "                      -0.0598, -0.1036, -0.0215, -0.0111, -0.0057, -0.0482, -0.0029, -0.1085,\n",
       "                       0.0277, -0.0757,  0.0019, -0.0385, -0.0033,  0.1028, -0.0116,  0.0246,\n",
       "                      -0.2506, -0.0104, -0.0243,  0.0513,  0.0190,  0.0985,  0.2592, -0.0418,\n",
       "                       0.1521,  0.0033, -0.0368,  0.0710, -0.0362, -0.0212, -0.0514,  0.0508,\n",
       "                       0.0590,  0.0174,  0.0939,  0.0113, -0.0002,  0.0011, -0.0930, -0.0926,\n",
       "                      -0.0293, -0.0541,  0.0757, -0.0286,  0.1126,  0.0649,  0.0224, -0.0719,\n",
       "                       0.0125, -0.0055, -0.0102,  0.0533, -0.0331, -0.0187,  0.1226, -0.0764,\n",
       "                       0.0890, -0.0340,  0.0117,  0.2804,  0.0514, -0.0296, -0.2032, -0.0045,\n",
       "                       0.1520, -0.2320, -0.0417,  0.0152, -0.0925,  0.0448,  0.0158,  0.0990,\n",
       "                      -0.0279,  0.0066, -0.0155,  0.0746,  0.0878,  0.0514, -0.0417,  0.0217,\n",
       "                      -0.0409, -0.0239, -0.0905, -0.0363, -0.0147,  0.1616, -0.0695,  0.0843,\n",
       "                      -0.0118, -0.0267,  0.0028,  0.0173,  0.0547,  0.0251, -0.0662, -0.0865,\n",
       "                       0.0891,  0.0240,  0.0335,  0.0326,  0.1410, -0.0416,  0.1272, -0.0317,\n",
       "                       0.0091, -0.0400,  0.0139,  0.0815,  0.2394, -0.0045, -0.0027,  0.0479,\n",
       "                      -0.0678,  0.1375, -0.0303, -0.1407, -0.0397,  0.0005, -0.0312, -0.0068,\n",
       "                      -0.0323, -0.0076, -0.0286,  0.0171, -0.0331, -0.1910, -0.1923,  0.0867,\n",
       "                      -0.0032,  0.0555, -0.0029,  0.0215,  0.1966, -0.0696,  0.0350,  0.0156,\n",
       "                       0.0334,  0.1102,  0.0405,  0.0378,  0.0196,  0.0043,  0.0121, -0.0406,\n",
       "                       0.0145, -0.0331, -0.0041,  0.2745, -0.0258,  0.2503,  0.0786,  0.0176,\n",
       "                       0.0274,  0.0120, -0.1106, -0.0025, -0.0082, -0.0272,  0.0014, -0.0104,\n",
       "                      -0.0264, -0.0213,  0.0181, -0.0296, -0.0042,  0.0270, -0.0040, -0.0179,\n",
       "                       0.0647,  0.0172,  0.0767, -0.0906,  0.0803,  0.0106, -0.1195,  0.0461,\n",
       "                      -0.1095, -0.1735, -0.0289, -0.0092,  0.0266,  0.1356, -0.0735,  0.0178,\n",
       "                      -0.0203,  0.2750,  0.0017,  0.0320, -0.1822, -0.1718, -0.1235,  0.0242,\n",
       "                      -0.0286,  0.0126, -0.0212,  0.0029,  0.0066,  0.0085, -0.0222, -0.0034,\n",
       "                       0.0094,  0.0259,  0.0892, -0.1769, -0.0309,  0.1970,  0.0725, -0.0938,\n",
       "                      -0.0771,  0.0659,  0.0036,  0.1278,  0.0312, -0.0409,  0.0034, -0.0713,\n",
       "                      -0.0079,  0.0030,  0.0096,  0.0640,  0.1755, -0.0186,  0.0004,  0.0106,\n",
       "                      -0.0053,  0.0336, -0.0268, -0.0176,  0.1516,  0.0105,  0.0944, -0.0077,\n",
       "                      -0.0725, -0.0179,  0.0462, -0.0189, -0.0054, -0.0048, -0.0331,  0.0020,\n",
       "                      -0.0185, -0.2027, -0.0047,  0.0869, -0.0076, -0.0170,  0.1266,  0.0167,\n",
       "                       0.0080, -0.1501,  0.1490, -0.0229,  0.1182,  0.0286,  0.0171,  0.0449,\n",
       "                      -0.0308, -0.0495,  0.0069,  0.0115,  0.0169, -0.0084, -0.0043, -0.0214,\n",
       "                      -0.0183, -0.0297,  0.0773,  0.0806, -0.0798, -0.0072,  0.0448, -0.0587,\n",
       "                       0.1314,  0.0805,  0.0243, -0.0507,  0.0074,  0.0120, -0.0432, -0.0415,\n",
       "                      -0.2360, -0.0066,  0.1774,  0.0832,  0.0071, -0.0688,  0.1171,  0.0180,\n",
       "                      -0.0156,  0.1411,  0.0127,  0.0408, -0.1382,  0.0230,  0.1277, -0.0126,\n",
       "                       0.0069,  0.0147, -0.0329, -0.0201,  0.0236, -0.0444,  0.0278, -0.0275,\n",
       "                      -0.2178, -0.0491, -0.0221,  0.0058, -0.0140, -0.0389,  0.1496, -0.0586,\n",
       "                      -0.0758, -0.0595, -0.0762, -0.0315, -0.0046,  0.0638,  0.0142,  0.1029])),\n",
       "             ('hidden_layers.1.weight',\n",
       "              tensor([[-0.0395, -0.0071, -0.0460,  ...,  0.0593,  0.0229, -0.0313],\n",
       "                      [-0.0103,  0.0110,  0.0172,  ...,  0.0048, -0.0376, -0.0651],\n",
       "                      [ 0.0065, -0.0430, -0.0339,  ..., -0.0423,  0.0417, -0.0658],\n",
       "                      ...,\n",
       "                      [ 0.0382, -0.0787,  0.0485,  ..., -0.0357,  0.0160,  0.0210],\n",
       "                      [-0.0123, -0.0798,  0.0162,  ...,  0.0069, -0.0475, -0.0358],\n",
       "                      [-0.0090,  0.0143,  0.0015,  ...,  0.0145, -0.0042,  0.0056]])),\n",
       "             ('hidden_layers.1.bias',\n",
       "              tensor([ 0.0824, -0.0955,  0.0042, -0.0846,  0.0154,  0.1080, -0.0086,  0.0562,\n",
       "                       0.1487,  0.0710,  0.1599,  0.1678,  0.1306,  0.0397, -0.1784,  0.1274,\n",
       "                       0.0670, -0.0372,  0.0027, -0.0147,  0.1520, -0.0040,  0.1595, -0.1793,\n",
       "                       0.0883,  0.0399, -0.1115,  0.0471, -0.0133,  0.0750,  0.0974,  0.1350,\n",
       "                      -0.1092,  0.0122,  0.0303,  0.1241,  0.1754,  0.0397, -0.0397,  0.1921,\n",
       "                       0.0533,  0.0434,  0.0025, -0.0985,  0.1219,  0.1013,  0.0187,  0.2500,\n",
       "                       0.1449,  0.0212, -0.0198,  0.1058,  0.0710,  0.1633, -0.0280,  0.1093,\n",
       "                      -0.0052,  0.0423, -0.0195, -0.1228,  0.0939,  0.0536,  0.0315,  0.0867,\n",
       "                      -0.0802,  0.0144,  0.1876,  0.0954,  0.1559,  0.0005, -0.0320, -0.0285,\n",
       "                       0.1435,  0.0200,  0.1248,  0.0686,  0.0998,  0.0975,  0.0166, -0.0554,\n",
       "                       0.0015, -0.0091, -0.0189,  0.1182, -0.1187,  0.0022, -0.0280,  0.0795,\n",
       "                      -0.0017,  0.1427, -0.0542, -0.0271, -0.1003,  0.0477,  0.0939, -0.1442,\n",
       "                       0.1115,  0.0597,  0.1223,  0.0859,  0.0619, -0.1955,  0.1300, -0.0903,\n",
       "                      -0.0367,  0.0620,  0.0421, -0.0312, -0.1590,  0.0432, -0.0400,  0.0438,\n",
       "                       0.1055,  0.1960, -0.0503, -0.0508,  0.0631,  0.0859,  0.0747,  0.1181,\n",
       "                      -0.0192,  0.0602,  0.1436,  0.1042, -0.0268, -0.0031, -0.0214, -0.0815,\n",
       "                       0.0317,  0.0237,  0.0645, -0.1140,  0.1592, -0.0555, -0.0040, -0.0058,\n",
       "                      -0.0436,  0.0960,  0.0354, -0.1294,  0.0814,  0.0142,  0.0312, -0.0859,\n",
       "                       0.0477,  0.0030,  0.0764,  0.0213, -0.0776, -0.0930, -0.0447, -0.1245,\n",
       "                      -0.0566,  0.1037,  0.0066,  0.1241, -0.0364,  0.1287,  0.0182, -0.1554,\n",
       "                      -0.0980, -0.0250, -0.0881, -0.0631,  0.0660, -0.0411,  0.0245,  0.1005,\n",
       "                      -0.0190, -0.1605,  0.1391,  0.0646,  0.1903,  0.2043,  0.0606, -0.0327,\n",
       "                       0.0234,  0.2179, -0.0013,  0.0280,  0.0483,  0.0726,  0.1318, -0.0678,\n",
       "                       0.1460,  0.0354,  0.1952, -0.1087,  0.0642,  0.1217,  0.0950,  0.1268,\n",
       "                      -0.0351,  0.0113,  0.0072,  0.0588,  0.0523,  0.0376, -0.0765,  0.0851,\n",
       "                      -0.0921,  0.0013, -0.0442,  0.1046,  0.0634,  0.0358,  0.1248,  0.1105,\n",
       "                       0.0326, -0.0571,  0.1215,  0.0496, -0.0154, -0.1398,  0.1093, -0.0251,\n",
       "                       0.1044, -0.2087,  0.0057,  0.2101,  0.0178,  0.1307, -0.1294,  0.0735,\n",
       "                      -0.0670,  0.1100,  0.0611,  0.0425, -0.0505,  0.0765,  0.0359,  0.1415,\n",
       "                       0.1664, -0.0639,  0.1858, -0.0228,  0.0418,  0.0963, -0.0957,  0.0471,\n",
       "                       0.0814,  0.0191, -0.0791,  0.2193, -0.0146,  0.0765,  0.0993, -0.0124,\n",
       "                      -0.0282,  0.0033, -0.0255, -0.1549,  0.1009,  0.1186,  0.1942,  0.0052])),\n",
       "             ('hidden_layers.2.weight',\n",
       "              tensor([[ 0.0595,  0.0233,  0.0099,  ..., -0.1132, -0.0562,  0.1233],\n",
       "                      [ 0.1440,  0.0312,  0.0213,  ..., -0.0900,  0.0223,  0.0254],\n",
       "                      [-0.0404,  0.0823,  0.0065,  ...,  0.0422, -0.0118,  0.0540],\n",
       "                      ...,\n",
       "                      [ 0.0665,  0.0895, -0.0202,  ..., -0.0667, -0.0513,  0.0106],\n",
       "                      [-0.0327, -0.0692, -0.0173,  ...,  0.0495,  0.0383, -0.0216],\n",
       "                      [ 0.0592,  0.0296, -0.0166,  ..., -0.0215,  0.0491, -0.0146]])),\n",
       "             ('hidden_layers.2.bias',\n",
       "              tensor([ 0.0386,  0.1258, -0.0198, -0.0434, -0.0172,  0.1178, -0.0156,  0.0891,\n",
       "                       0.0138, -0.0909,  0.1964, -0.1018,  0.2245,  0.0369,  0.2724,  0.0764,\n",
       "                      -0.0389, -0.0546,  0.0056,  0.1203,  0.0885,  0.1829,  0.1060,  0.1508,\n",
       "                       0.0912, -0.0030,  0.0415, -0.0857,  0.0169, -0.0527,  0.1964, -0.1798,\n",
       "                      -0.0551,  0.0831,  0.1306,  0.0626,  0.1062,  0.0702,  0.0459, -0.0343,\n",
       "                       0.0026, -0.0020,  0.1045,  0.1866, -0.0349,  0.1113,  0.0840,  0.0807,\n",
       "                       0.0365,  0.1012, -0.0583, -0.0565,  0.0209,  0.0201,  0.0160,  0.1187,\n",
       "                       0.1850,  0.1795,  0.1361, -0.0576, -0.0356,  0.0773,  0.0829,  0.2030,\n",
       "                       0.1682,  0.1289,  0.0831, -0.0268, -0.0040,  0.1580,  0.2293, -0.0267,\n",
       "                       0.0174,  0.1612,  0.0168,  0.0327,  0.1504,  0.0379, -0.0097,  0.0792,\n",
       "                       0.0264, -0.0051,  0.1189, -0.0448,  0.1580,  0.0368, -0.0175,  0.1100,\n",
       "                       0.1446, -0.0248,  0.0050,  0.1294,  0.1207, -0.1363, -0.0332, -0.1366,\n",
       "                       0.0304,  0.1992,  0.0824, -0.0484,  0.1320,  0.1385,  0.2176, -0.0454,\n",
       "                       0.0723,  0.0490, -0.1220, -0.0421,  0.1617,  0.1281,  0.2075,  0.0969,\n",
       "                       0.0913, -0.0616,  0.0396, -0.1267,  0.1444,  0.0331, -0.0873,  0.1734,\n",
       "                       0.0627,  0.0207,  0.0796,  0.1098,  0.2168,  0.0470,  0.1816,  0.1987])),\n",
       "             ('hidden_layers.3.weight',\n",
       "              tensor([[-0.1113, -0.1022,  0.0677,  ..., -0.1261,  0.0223, -0.0918],\n",
       "                      [ 0.0630,  0.0086,  0.0734,  ..., -0.0618, -0.1545,  0.0494],\n",
       "                      [ 0.0244, -0.0469, -0.1067,  ..., -0.0729, -0.0382, -0.0802],\n",
       "                      ...,\n",
       "                      [ 0.0959,  0.0209, -0.0967,  ...,  0.0919,  0.0079,  0.0865],\n",
       "                      [ 0.0616, -0.0559,  0.0151,  ..., -0.0802,  0.1414,  0.0033],\n",
       "                      [-0.0451, -0.0233, -0.0315,  ...,  0.0767,  0.0965,  0.0179]])),\n",
       "             ('hidden_layers.3.bias',\n",
       "              tensor([ 0.0650,  0.0372,  0.0532,  0.0497,  0.1607,  0.0746,  0.0428,  0.0870,\n",
       "                       0.0057,  0.0802,  0.2357,  0.2634,  0.0879,  0.1780,  0.0666, -0.0180,\n",
       "                       0.1182,  0.0510,  0.3068,  0.2347,  0.1719,  0.0130,  0.1404,  0.0227,\n",
       "                       0.1510,  0.1699,  0.0377,  0.1622, -0.0308,  0.2261,  0.1250,  0.2670,\n",
       "                       0.1117,  0.1509,  0.1086,  0.0555,  0.2503,  0.1514, -0.0590,  0.0916,\n",
       "                       0.3198,  0.1106,  0.0741,  0.0297,  0.0862, -0.1394,  0.1758,  0.0714,\n",
       "                       0.2364,  0.1366,  0.0928,  0.0912,  0.2056, -0.0438, -0.1325,  0.0610,\n",
       "                      -0.0159, -0.0854,  0.1140,  0.1112,  0.1596,  0.2554,  0.1860,  0.0351])),\n",
       "             ('output.weight',\n",
       "              tensor([[-0.1413, -0.0368, -0.0505, -0.1098, -0.0761,  0.0923, -0.1990, -0.0681,\n",
       "                       -0.0427,  0.0851,  0.0534,  0.0498, -0.0442, -0.1485, -0.0988, -0.0807,\n",
       "                        0.0929, -0.0286,  0.1156, -0.0541,  0.0994,  0.0788,  0.0431, -0.0418,\n",
       "                       -0.0486, -0.0910,  0.0735, -0.1237, -0.1112,  0.1149, -0.0129,  0.0143,\n",
       "                        0.0922, -0.0246,  0.0426,  0.0186,  0.0463, -0.0109, -0.1016, -0.0284,\n",
       "                        0.0638, -0.1373, -0.0621, -0.0665, -0.0205, -0.0865, -0.0989, -0.0137,\n",
       "                        0.0630,  0.1460, -0.1109, -0.0803,  0.0968,  0.1064, -0.0773, -0.0749,\n",
       "                       -0.0488, -0.0287,  0.0710, -0.0801,  0.0811, -0.0284, -0.1675,  0.1006],\n",
       "                      [ 0.0857,  0.0753,  0.1130, -0.1855, -0.0801, -0.1532,  0.0878, -0.2008,\n",
       "                       -0.0347, -0.1159, -0.1837, -0.1031, -0.0214, -0.1546, -0.0721, -0.1990,\n",
       "                        0.0963, -0.2569,  0.0781, -0.0992,  0.0170, -0.1286,  0.0941,  0.0863,\n",
       "                       -0.1601, -0.1111, -0.0023,  0.1186,  0.1198, -0.0255,  0.0712, -0.0610,\n",
       "                        0.1077,  0.0642,  0.0150, -0.2254, -0.1500, -0.2810,  0.0436, -0.2686,\n",
       "                       -0.1549,  0.0679, -0.1568,  0.0677, -0.1039, -0.1003, -0.0851, -0.1274,\n",
       "                       -0.0434,  0.0967, -0.1747, -0.2355,  0.1338, -0.2851, -0.0698, -0.2035,\n",
       "                        0.1215, -0.0783,  0.1304, -0.1962,  0.0994, -0.0532, -0.1898, -0.0119],\n",
       "                      [-0.0858, -0.0416, -0.0215, -0.1624,  0.0627,  0.1004,  0.0276, -0.2543,\n",
       "                       -0.0423,  0.0506,  0.0057,  0.0915,  0.0984,  0.0601, -0.0772,  0.0222,\n",
       "                       -0.0173, -0.2298,  0.1374,  0.0497,  0.0377,  0.0945, -0.0178, -0.1562,\n",
       "                       -0.0267, -0.1693, -0.1642, -0.1481, -0.1821, -0.0350,  0.1058, -0.0946,\n",
       "                       -0.1251, -0.1231, -0.1609, -0.1277, -0.1389, -0.1314, -0.2194, -0.2137,\n",
       "                        0.0714, -0.1050, -0.1648, -0.1084,  0.0625, -0.0253,  0.0707,  0.1035,\n",
       "                        0.0599,  0.0176,  0.0446,  0.0299, -0.0825, -0.1064, -0.1142,  0.0148,\n",
       "                       -0.0734, -0.0546, -0.1053,  0.0642, -0.2088,  0.1063, -0.0933,  0.1197],\n",
       "                      [-0.0134,  0.0760, -0.1211,  0.0070, -0.0175, -0.0365, -0.1922, -0.2563,\n",
       "                        0.0534, -0.0212, -0.0008, -0.1416, -0.1589, -0.0042,  0.0883, -0.0961,\n",
       "                       -0.0317, -0.2198,  0.0158,  0.0335,  0.0674,  0.0078,  0.0688,  0.0721,\n",
       "                       -0.2162, -0.0075,  0.0822,  0.0292, -0.1589,  0.1000,  0.0977,  0.0782,\n",
       "                        0.1015,  0.0857,  0.0489, -0.1420, -0.1275, -0.1193, -0.1113, -0.0526,\n",
       "                        0.0150, -0.1370, -0.2774,  0.0327, -0.1375, -0.0002, -0.1233, -0.1955,\n",
       "                        0.0566,  0.1337, -0.2563,  0.0341,  0.1015, -0.0544, -0.1309, -0.1557,\n",
       "                        0.0041, -0.0652,  0.0906, -0.2606, -0.0249,  0.0901, -0.1883, -0.0567],\n",
       "                      [-0.1156,  0.0127, -0.0679, -0.0107,  0.0707,  0.0851,  0.0194, -0.3109,\n",
       "                        0.0748, -0.1200, -0.0369, -0.0907,  0.1119,  0.0932,  0.0641,  0.0916,\n",
       "                       -0.0653, -0.1525,  0.0004,  0.0472, -0.2345,  0.0886,  0.0657,  0.0304,\n",
       "                       -0.0021, -0.0955, -0.1387, -0.0738, -0.0955, -0.0743,  0.0999,  0.0733,\n",
       "                        0.0748,  0.0535, -0.1409, -0.3153, -0.0932,  0.0061, -0.1384, -0.0994,\n",
       "                       -0.0901, -0.0320, -0.1124, -0.0021, -0.1406,  0.0050,  0.0842, -0.0119,\n",
       "                        0.0579,  0.0013, -0.0634,  0.0561, -0.0293, -0.1703, -0.0530,  0.0455,\n",
       "                       -0.0374, -0.0635, -0.0602,  0.1084, -0.0911,  0.1107, -0.1288,  0.1169],\n",
       "                      [ 0.1062, -0.1636,  0.1208,  0.0309, -0.3568, -0.0703,  0.0870,  0.0600,\n",
       "                       -0.0540, -0.0246, -0.3085,  0.1144,  0.0486, -0.3503, -0.1154, -0.0891,\n",
       "                       -0.0814,  0.0707, -0.2226, -0.1204,  0.0260, -0.1382, -0.2542, -0.1376,\n",
       "                        0.1060,  0.0610, -0.0816,  0.0547,  0.0916, -0.4161, -0.3085, -0.0539,\n",
       "                       -0.3173,  0.0745, -0.0522,  0.1155,  0.1513,  0.1013, -0.0240,  0.0982,\n",
       "                       -0.1311,  0.1103,  0.0919, -0.2370,  0.0377,  0.0419, -0.2149, -0.0978,\n",
       "                       -0.4136, -0.2349,  0.0920,  0.0472, -0.1134, -0.0470,  0.0244,  0.1063,\n",
       "                       -0.0688, -0.0099, -0.1779,  0.1017, -0.1651, -0.2858,  0.1326, -0.2047],\n",
       "                      [-0.1490, -0.0905, -0.0654, -0.1359,  0.0622,  0.0832,  0.0209, -0.1029,\n",
       "                       -0.0593,  0.0514,  0.0468,  0.0303,  0.0831,  0.0773, -0.0950,  0.0749,\n",
       "                        0.0803, -0.2039,  0.0771,  0.0389,  0.0904,  0.0806,  0.0298, -0.0925,\n",
       "                        0.0123, -0.1999,  0.0531, -0.1356, -0.1943,  0.1042,  0.1047,  0.0064,\n",
       "                        0.0447, -0.0494,  0.0027, -0.0053,  0.0122, -0.0126, -0.1840, -0.1635,\n",
       "                        0.0446, -0.0950, -0.1555, -0.0775, -0.0522, -0.0193,  0.0777, -0.0149,\n",
       "                        0.0460,  0.1206, -0.1046,  0.0421,  0.0787,  0.0718, -0.0655, -0.0282,\n",
       "                       -0.0605, -0.0991,  0.0511,  0.0825,  0.0541,  0.1023, -0.1782,  0.0892],\n",
       "                      [ 0.1106, -0.0268, -0.1098,  0.1007, -0.4062, -0.1345,  0.0277,  0.0527,\n",
       "                        0.1099, -0.2322, -0.3244, -0.0527, -0.1899, -0.2812, -0.0941, -0.1218,\n",
       "                       -0.2631,  0.0875, -0.2557, -0.4220,  0.0361, -0.0413, -0.3631, -0.0076,\n",
       "                       -0.0768,  0.1089,  0.1062,  0.0795,  0.1128, -0.2396, -0.2573,  0.0342,\n",
       "                       -0.1975, -0.1058,  0.0613,  0.0099,  0.0473, -0.0566,  0.0252,  0.1189,\n",
       "                       -0.2440,  0.1287,  0.1189,  0.0019, -0.0936,  0.0138, -0.1863, -0.1819,\n",
       "                       -0.3938, -0.3194,  0.0507,  0.0855,  0.0771, -0.0937, -0.0583,  0.1303,\n",
       "                        0.0225, -0.0367, -0.1849,  0.0852, -0.1910, -0.1684,  0.1306, -0.1538],\n",
       "                      [ 0.0763,  0.0928, -0.0389,  0.1050, -0.1058, -0.1483, -0.1894, -0.0094,\n",
       "                       -0.1523,  0.1148, -0.1551,  0.1410,  0.0827, -0.1421, -0.1478,  0.1056,\n",
       "                        0.1563,  0.0536, -0.0253, -0.0035,  0.0676, -0.1505, -0.1582, -0.0390,\n",
       "                        0.0576, -0.0788,  0.0518, -0.1328, -0.0999, -0.0624,  0.0629,  0.0475,\n",
       "                        0.0170,  0.1199, -0.2078, -0.1221,  0.1727,  0.1371,  0.0663,  0.0756,\n",
       "                        0.0731, -0.0752, -0.0641, -0.1925, -0.0649, -0.1103,  0.0530, -0.0530,\n",
       "                       -0.1240,  0.0011, -0.2639, -0.0578, -0.0744, -0.0931, -0.1157, -0.0773,\n",
       "                       -0.1538,  0.1321, -0.1976,  0.0666, -0.2324,  0.0727,  0.0678, -0.1046],\n",
       "                      [-0.0226, -0.2254, -0.0450,  0.0794, -0.2886,  0.0111,  0.1012,  0.0512,\n",
       "                        0.1198, -0.0061, -0.2619, -0.1190, -0.0456, -0.1385, -0.0920, -0.0660,\n",
       "                       -0.0566,  0.0969, -0.2164, -0.3657, -0.1778,  0.0071, -0.1663, -0.1205,\n",
       "                       -0.0785,  0.0971,  0.0848, -0.0668,  0.1209, -0.3313, -0.1475, -0.2362,\n",
       "                       -0.0910, -0.0608,  0.0612,  0.1051, -0.0187,  0.0689,  0.0525,  0.0597,\n",
       "                       -0.3200,  0.1332,  0.0523, -0.0295,  0.0218,  0.1027, -0.2343, -0.0113,\n",
       "                       -0.2803, -0.2630,  0.0847,  0.0847, -0.1850,  0.0628,  0.0734,  0.1300,\n",
       "                        0.0478,  0.0504, -0.1826, -0.1174, -0.0945, -0.3334,  0.1332, -0.0719]])),\n",
       "             ('output.bias',\n",
       "              tensor([ 0.0017, -0.2102,  0.1623,  0.2666, -0.2091,  0.1653,  0.2092,  0.1062,\n",
       "                      -0.1515, -0.3002]))])"
      ]
     },
     "execution_count": 37,
     "metadata": {},
     "output_type": "execute_result"
    }
   ],
   "source": [
    "model.state_dict()"
   ]
  },
  {
   "cell_type": "code",
   "execution_count": 38,
   "metadata": {},
   "outputs": [
    {
     "data": {
      "text/plain": [
       "odict_keys(['hidden_layers.0.weight', 'hidden_layers.0.bias', 'hidden_layers.1.weight', 'hidden_layers.1.bias', 'hidden_layers.2.weight', 'hidden_layers.2.bias', 'hidden_layers.3.weight', 'hidden_layers.3.bias', 'output.weight', 'output.bias'])"
      ]
     },
     "execution_count": 38,
     "metadata": {},
     "output_type": "execute_result"
    }
   ],
   "source": [
    "model.state_dict().keys()"
   ]
  },
  {
   "cell_type": "markdown",
   "metadata": {},
   "source": [
    "So the terms containing weight and bias parameters are stored in `model.state_dict()` and this is what we want to save. To save them, we use `torch.save`. For example, we can save them to a file named `checkpoint.pth`."
   ]
  },
  {
   "cell_type": "code",
   "execution_count": 41,
   "metadata": {},
   "outputs": [],
   "source": [
    "torch.save(model.state_dict(), 'checkpoint.pth')"
   ]
  },
  {
   "cell_type": "markdown",
   "metadata": {},
   "source": [
    "Then we can load the `state_dict()` with `torch.load` method:"
   ]
  },
  {
   "cell_type": "code",
   "execution_count": 42,
   "metadata": {},
   "outputs": [],
   "source": [
    "state_dict_2 = torch.load('checkpoint.pth')"
   ]
  },
  {
   "cell_type": "code",
   "execution_count": 43,
   "metadata": {},
   "outputs": [
    {
     "data": {
      "text/plain": [
       "OrderedDict([('hidden_layers.0.weight',\n",
       "              tensor([[ 0.0354,  0.0118, -0.0117,  ...,  0.0083,  0.0075, -0.0140],\n",
       "                      [ 0.0281, -0.0094,  0.0686,  ..., -0.0598, -0.0028,  0.0394],\n",
       "                      [ 0.0203,  0.0137,  0.0013,  ..., -0.0356,  0.0322,  0.0141],\n",
       "                      ...,\n",
       "                      [ 0.0583,  0.0457, -0.0042,  ..., -0.0084, -0.0323,  0.0038],\n",
       "                      [ 0.0126, -0.0202,  0.0190,  ...,  0.0055,  0.0213,  0.0179],\n",
       "                      [ 0.0149,  0.0684,  0.0478,  ...,  0.0060, -0.0020,  0.0830]])),\n",
       "             ('hidden_layers.0.bias',\n",
       "              tensor([ 0.0142,  0.0922, -0.0376,  0.0231,  0.0065, -0.0263, -0.0205,  0.0459,\n",
       "                       0.0135,  0.1402, -0.0228, -0.0213, -0.0380, -0.0315, -0.0299,  0.1137,\n",
       "                       0.0154, -0.0350, -0.0743,  0.0621,  0.0689, -0.1075, -0.0286, -0.0140,\n",
       "                      -0.0057, -0.0666, -0.0044, -0.0327,  0.1079,  0.0025, -0.0272, -0.0277,\n",
       "                       0.0239, -0.0063, -0.0306,  0.0270,  0.2355, -0.0215,  0.0025,  0.2175,\n",
       "                       0.0992,  0.0041, -0.0435,  0.0360,  0.0250, -0.0278,  0.0039,  0.0172,\n",
       "                      -0.0105,  0.1399,  0.0044,  0.0821,  0.0321,  0.0175,  0.1093,  0.0040,\n",
       "                       0.2420,  0.2639, -0.0358, -0.0231, -0.0292,  0.0133,  0.1151,  0.0072,\n",
       "                       0.0682,  0.0801,  0.0201, -0.0460, -0.0273,  0.0094,  0.0882,  0.0150,\n",
       "                       0.0026, -0.0333,  0.0882,  0.2056, -0.0082, -0.0224, -0.0230,  0.0076,\n",
       "                       0.0096,  0.0134, -0.0108,  0.0303,  0.0407, -0.0194, -0.0141, -0.0108,\n",
       "                      -0.0110,  0.0394, -0.0160, -0.1097, -0.0190,  0.0555,  0.1369, -0.0194,\n",
       "                      -0.0315,  0.0152, -0.0343, -0.0362,  0.0234,  0.0488,  0.0740,  0.1851,\n",
       "                      -0.0372,  0.0028, -0.0250, -0.0261, -0.0347,  0.0609, -0.0285,  0.1200,\n",
       "                       0.0753,  0.1332,  0.1235, -0.0280, -0.0101,  0.2895, -0.0064, -0.0278,\n",
       "                      -0.0515, -0.0149,  0.0069,  0.0099,  0.0941, -0.0180, -0.0362, -0.0239,\n",
       "                      -0.0773, -0.0289, -0.1049,  0.0142,  0.0108,  0.0540,  0.0866, -0.0512,\n",
       "                       0.0532,  0.0952,  0.1014, -0.0283,  0.1073, -0.0438, -0.0023,  0.0728,\n",
       "                      -0.0043,  0.0197, -0.1930, -0.1115,  0.1307,  0.0340,  0.0503,  0.0742,\n",
       "                       0.0987, -0.0368, -0.1408,  0.0266,  0.0683, -0.0039, -0.0310,  0.1028,\n",
       "                      -0.0414, -0.0003,  0.2366,  0.0022,  0.0677,  0.0011,  0.0934, -0.0199,\n",
       "                      -0.0337, -0.0985,  0.0185,  0.0886, -0.0332,  0.0049, -0.2117, -0.0214,\n",
       "                       0.0625, -0.0523,  0.0209, -0.0592,  0.0583,  0.0098, -0.0134, -0.0798,\n",
       "                      -0.0357, -0.0044,  0.0455,  0.0263, -0.0341,  0.2168,  0.0006, -0.0330,\n",
       "                      -0.0598, -0.1036, -0.0215, -0.0111, -0.0057, -0.0482, -0.0029, -0.1085,\n",
       "                       0.0277, -0.0757,  0.0019, -0.0385, -0.0033,  0.1028, -0.0116,  0.0246,\n",
       "                      -0.2506, -0.0104, -0.0243,  0.0513,  0.0190,  0.0985,  0.2592, -0.0418,\n",
       "                       0.1521,  0.0033, -0.0368,  0.0710, -0.0362, -0.0212, -0.0514,  0.0508,\n",
       "                       0.0590,  0.0174,  0.0939,  0.0113, -0.0002,  0.0011, -0.0930, -0.0926,\n",
       "                      -0.0293, -0.0541,  0.0757, -0.0286,  0.1126,  0.0649,  0.0224, -0.0719,\n",
       "                       0.0125, -0.0055, -0.0102,  0.0533, -0.0331, -0.0187,  0.1226, -0.0764,\n",
       "                       0.0890, -0.0340,  0.0117,  0.2804,  0.0514, -0.0296, -0.2032, -0.0045,\n",
       "                       0.1520, -0.2320, -0.0417,  0.0152, -0.0925,  0.0448,  0.0158,  0.0990,\n",
       "                      -0.0279,  0.0066, -0.0155,  0.0746,  0.0878,  0.0514, -0.0417,  0.0217,\n",
       "                      -0.0409, -0.0239, -0.0905, -0.0363, -0.0147,  0.1616, -0.0695,  0.0843,\n",
       "                      -0.0118, -0.0267,  0.0028,  0.0173,  0.0547,  0.0251, -0.0662, -0.0865,\n",
       "                       0.0891,  0.0240,  0.0335,  0.0326,  0.1410, -0.0416,  0.1272, -0.0317,\n",
       "                       0.0091, -0.0400,  0.0139,  0.0815,  0.2394, -0.0045, -0.0027,  0.0479,\n",
       "                      -0.0678,  0.1375, -0.0303, -0.1407, -0.0397,  0.0005, -0.0312, -0.0068,\n",
       "                      -0.0323, -0.0076, -0.0286,  0.0171, -0.0331, -0.1910, -0.1923,  0.0867,\n",
       "                      -0.0032,  0.0555, -0.0029,  0.0215,  0.1966, -0.0696,  0.0350,  0.0156,\n",
       "                       0.0334,  0.1102,  0.0405,  0.0378,  0.0196,  0.0043,  0.0121, -0.0406,\n",
       "                       0.0145, -0.0331, -0.0041,  0.2745, -0.0258,  0.2503,  0.0786,  0.0176,\n",
       "                       0.0274,  0.0120, -0.1106, -0.0025, -0.0082, -0.0272,  0.0014, -0.0104,\n",
       "                      -0.0264, -0.0213,  0.0181, -0.0296, -0.0042,  0.0270, -0.0040, -0.0179,\n",
       "                       0.0647,  0.0172,  0.0767, -0.0906,  0.0803,  0.0106, -0.1195,  0.0461,\n",
       "                      -0.1095, -0.1735, -0.0289, -0.0092,  0.0266,  0.1356, -0.0735,  0.0178,\n",
       "                      -0.0203,  0.2750,  0.0017,  0.0320, -0.1822, -0.1718, -0.1235,  0.0242,\n",
       "                      -0.0286,  0.0126, -0.0212,  0.0029,  0.0066,  0.0085, -0.0222, -0.0034,\n",
       "                       0.0094,  0.0259,  0.0892, -0.1769, -0.0309,  0.1970,  0.0725, -0.0938,\n",
       "                      -0.0771,  0.0659,  0.0036,  0.1278,  0.0312, -0.0409,  0.0034, -0.0713,\n",
       "                      -0.0079,  0.0030,  0.0096,  0.0640,  0.1755, -0.0186,  0.0004,  0.0106,\n",
       "                      -0.0053,  0.0336, -0.0268, -0.0176,  0.1516,  0.0105,  0.0944, -0.0077,\n",
       "                      -0.0725, -0.0179,  0.0462, -0.0189, -0.0054, -0.0048, -0.0331,  0.0020,\n",
       "                      -0.0185, -0.2027, -0.0047,  0.0869, -0.0076, -0.0170,  0.1266,  0.0167,\n",
       "                       0.0080, -0.1501,  0.1490, -0.0229,  0.1182,  0.0286,  0.0171,  0.0449,\n",
       "                      -0.0308, -0.0495,  0.0069,  0.0115,  0.0169, -0.0084, -0.0043, -0.0214,\n",
       "                      -0.0183, -0.0297,  0.0773,  0.0806, -0.0798, -0.0072,  0.0448, -0.0587,\n",
       "                       0.1314,  0.0805,  0.0243, -0.0507,  0.0074,  0.0120, -0.0432, -0.0415,\n",
       "                      -0.2360, -0.0066,  0.1774,  0.0832,  0.0071, -0.0688,  0.1171,  0.0180,\n",
       "                      -0.0156,  0.1411,  0.0127,  0.0408, -0.1382,  0.0230,  0.1277, -0.0126,\n",
       "                       0.0069,  0.0147, -0.0329, -0.0201,  0.0236, -0.0444,  0.0278, -0.0275,\n",
       "                      -0.2178, -0.0491, -0.0221,  0.0058, -0.0140, -0.0389,  0.1496, -0.0586,\n",
       "                      -0.0758, -0.0595, -0.0762, -0.0315, -0.0046,  0.0638,  0.0142,  0.1029])),\n",
       "             ('hidden_layers.1.weight',\n",
       "              tensor([[-0.0395, -0.0071, -0.0460,  ...,  0.0593,  0.0229, -0.0313],\n",
       "                      [-0.0103,  0.0110,  0.0172,  ...,  0.0048, -0.0376, -0.0651],\n",
       "                      [ 0.0065, -0.0430, -0.0339,  ..., -0.0423,  0.0417, -0.0658],\n",
       "                      ...,\n",
       "                      [ 0.0382, -0.0787,  0.0485,  ..., -0.0357,  0.0160,  0.0210],\n",
       "                      [-0.0123, -0.0798,  0.0162,  ...,  0.0069, -0.0475, -0.0358],\n",
       "                      [-0.0090,  0.0143,  0.0015,  ...,  0.0145, -0.0042,  0.0056]])),\n",
       "             ('hidden_layers.1.bias',\n",
       "              tensor([ 0.0824, -0.0955,  0.0042, -0.0846,  0.0154,  0.1080, -0.0086,  0.0562,\n",
       "                       0.1487,  0.0710,  0.1599,  0.1678,  0.1306,  0.0397, -0.1784,  0.1274,\n",
       "                       0.0670, -0.0372,  0.0027, -0.0147,  0.1520, -0.0040,  0.1595, -0.1793,\n",
       "                       0.0883,  0.0399, -0.1115,  0.0471, -0.0133,  0.0750,  0.0974,  0.1350,\n",
       "                      -0.1092,  0.0122,  0.0303,  0.1241,  0.1754,  0.0397, -0.0397,  0.1921,\n",
       "                       0.0533,  0.0434,  0.0025, -0.0985,  0.1219,  0.1013,  0.0187,  0.2500,\n",
       "                       0.1449,  0.0212, -0.0198,  0.1058,  0.0710,  0.1633, -0.0280,  0.1093,\n",
       "                      -0.0052,  0.0423, -0.0195, -0.1228,  0.0939,  0.0536,  0.0315,  0.0867,\n",
       "                      -0.0802,  0.0144,  0.1876,  0.0954,  0.1559,  0.0005, -0.0320, -0.0285,\n",
       "                       0.1435,  0.0200,  0.1248,  0.0686,  0.0998,  0.0975,  0.0166, -0.0554,\n",
       "                       0.0015, -0.0091, -0.0189,  0.1182, -0.1187,  0.0022, -0.0280,  0.0795,\n",
       "                      -0.0017,  0.1427, -0.0542, -0.0271, -0.1003,  0.0477,  0.0939, -0.1442,\n",
       "                       0.1115,  0.0597,  0.1223,  0.0859,  0.0619, -0.1955,  0.1300, -0.0903,\n",
       "                      -0.0367,  0.0620,  0.0421, -0.0312, -0.1590,  0.0432, -0.0400,  0.0438,\n",
       "                       0.1055,  0.1960, -0.0503, -0.0508,  0.0631,  0.0859,  0.0747,  0.1181,\n",
       "                      -0.0192,  0.0602,  0.1436,  0.1042, -0.0268, -0.0031, -0.0214, -0.0815,\n",
       "                       0.0317,  0.0237,  0.0645, -0.1140,  0.1592, -0.0555, -0.0040, -0.0058,\n",
       "                      -0.0436,  0.0960,  0.0354, -0.1294,  0.0814,  0.0142,  0.0312, -0.0859,\n",
       "                       0.0477,  0.0030,  0.0764,  0.0213, -0.0776, -0.0930, -0.0447, -0.1245,\n",
       "                      -0.0566,  0.1037,  0.0066,  0.1241, -0.0364,  0.1287,  0.0182, -0.1554,\n",
       "                      -0.0980, -0.0250, -0.0881, -0.0631,  0.0660, -0.0411,  0.0245,  0.1005,\n",
       "                      -0.0190, -0.1605,  0.1391,  0.0646,  0.1903,  0.2043,  0.0606, -0.0327,\n",
       "                       0.0234,  0.2179, -0.0013,  0.0280,  0.0483,  0.0726,  0.1318, -0.0678,\n",
       "                       0.1460,  0.0354,  0.1952, -0.1087,  0.0642,  0.1217,  0.0950,  0.1268,\n",
       "                      -0.0351,  0.0113,  0.0072,  0.0588,  0.0523,  0.0376, -0.0765,  0.0851,\n",
       "                      -0.0921,  0.0013, -0.0442,  0.1046,  0.0634,  0.0358,  0.1248,  0.1105,\n",
       "                       0.0326, -0.0571,  0.1215,  0.0496, -0.0154, -0.1398,  0.1093, -0.0251,\n",
       "                       0.1044, -0.2087,  0.0057,  0.2101,  0.0178,  0.1307, -0.1294,  0.0735,\n",
       "                      -0.0670,  0.1100,  0.0611,  0.0425, -0.0505,  0.0765,  0.0359,  0.1415,\n",
       "                       0.1664, -0.0639,  0.1858, -0.0228,  0.0418,  0.0963, -0.0957,  0.0471,\n",
       "                       0.0814,  0.0191, -0.0791,  0.2193, -0.0146,  0.0765,  0.0993, -0.0124,\n",
       "                      -0.0282,  0.0033, -0.0255, -0.1549,  0.1009,  0.1186,  0.1942,  0.0052])),\n",
       "             ('hidden_layers.2.weight',\n",
       "              tensor([[ 0.0595,  0.0233,  0.0099,  ..., -0.1132, -0.0562,  0.1233],\n",
       "                      [ 0.1440,  0.0312,  0.0213,  ..., -0.0900,  0.0223,  0.0254],\n",
       "                      [-0.0404,  0.0823,  0.0065,  ...,  0.0422, -0.0118,  0.0540],\n",
       "                      ...,\n",
       "                      [ 0.0665,  0.0895, -0.0202,  ..., -0.0667, -0.0513,  0.0106],\n",
       "                      [-0.0327, -0.0692, -0.0173,  ...,  0.0495,  0.0383, -0.0216],\n",
       "                      [ 0.0592,  0.0296, -0.0166,  ..., -0.0215,  0.0491, -0.0146]])),\n",
       "             ('hidden_layers.2.bias',\n",
       "              tensor([ 0.0386,  0.1258, -0.0198, -0.0434, -0.0172,  0.1178, -0.0156,  0.0891,\n",
       "                       0.0138, -0.0909,  0.1964, -0.1018,  0.2245,  0.0369,  0.2724,  0.0764,\n",
       "                      -0.0389, -0.0546,  0.0056,  0.1203,  0.0885,  0.1829,  0.1060,  0.1508,\n",
       "                       0.0912, -0.0030,  0.0415, -0.0857,  0.0169, -0.0527,  0.1964, -0.1798,\n",
       "                      -0.0551,  0.0831,  0.1306,  0.0626,  0.1062,  0.0702,  0.0459, -0.0343,\n",
       "                       0.0026, -0.0020,  0.1045,  0.1866, -0.0349,  0.1113,  0.0840,  0.0807,\n",
       "                       0.0365,  0.1012, -0.0583, -0.0565,  0.0209,  0.0201,  0.0160,  0.1187,\n",
       "                       0.1850,  0.1795,  0.1361, -0.0576, -0.0356,  0.0773,  0.0829,  0.2030,\n",
       "                       0.1682,  0.1289,  0.0831, -0.0268, -0.0040,  0.1580,  0.2293, -0.0267,\n",
       "                       0.0174,  0.1612,  0.0168,  0.0327,  0.1504,  0.0379, -0.0097,  0.0792,\n",
       "                       0.0264, -0.0051,  0.1189, -0.0448,  0.1580,  0.0368, -0.0175,  0.1100,\n",
       "                       0.1446, -0.0248,  0.0050,  0.1294,  0.1207, -0.1363, -0.0332, -0.1366,\n",
       "                       0.0304,  0.1992,  0.0824, -0.0484,  0.1320,  0.1385,  0.2176, -0.0454,\n",
       "                       0.0723,  0.0490, -0.1220, -0.0421,  0.1617,  0.1281,  0.2075,  0.0969,\n",
       "                       0.0913, -0.0616,  0.0396, -0.1267,  0.1444,  0.0331, -0.0873,  0.1734,\n",
       "                       0.0627,  0.0207,  0.0796,  0.1098,  0.2168,  0.0470,  0.1816,  0.1987])),\n",
       "             ('hidden_layers.3.weight',\n",
       "              tensor([[-0.1113, -0.1022,  0.0677,  ..., -0.1261,  0.0223, -0.0918],\n",
       "                      [ 0.0630,  0.0086,  0.0734,  ..., -0.0618, -0.1545,  0.0494],\n",
       "                      [ 0.0244, -0.0469, -0.1067,  ..., -0.0729, -0.0382, -0.0802],\n",
       "                      ...,\n",
       "                      [ 0.0959,  0.0209, -0.0967,  ...,  0.0919,  0.0079,  0.0865],\n",
       "                      [ 0.0616, -0.0559,  0.0151,  ..., -0.0802,  0.1414,  0.0033],\n",
       "                      [-0.0451, -0.0233, -0.0315,  ...,  0.0767,  0.0965,  0.0179]])),\n",
       "             ('hidden_layers.3.bias',\n",
       "              tensor([ 0.0650,  0.0372,  0.0532,  0.0497,  0.1607,  0.0746,  0.0428,  0.0870,\n",
       "                       0.0057,  0.0802,  0.2357,  0.2634,  0.0879,  0.1780,  0.0666, -0.0180,\n",
       "                       0.1182,  0.0510,  0.3068,  0.2347,  0.1719,  0.0130,  0.1404,  0.0227,\n",
       "                       0.1510,  0.1699,  0.0377,  0.1622, -0.0308,  0.2261,  0.1250,  0.2670,\n",
       "                       0.1117,  0.1509,  0.1086,  0.0555,  0.2503,  0.1514, -0.0590,  0.0916,\n",
       "                       0.3198,  0.1106,  0.0741,  0.0297,  0.0862, -0.1394,  0.1758,  0.0714,\n",
       "                       0.2364,  0.1366,  0.0928,  0.0912,  0.2056, -0.0438, -0.1325,  0.0610,\n",
       "                      -0.0159, -0.0854,  0.1140,  0.1112,  0.1596,  0.2554,  0.1860,  0.0351])),\n",
       "             ('output.weight',\n",
       "              tensor([[-0.1413, -0.0368, -0.0505, -0.1098, -0.0761,  0.0923, -0.1990, -0.0681,\n",
       "                       -0.0427,  0.0851,  0.0534,  0.0498, -0.0442, -0.1485, -0.0988, -0.0807,\n",
       "                        0.0929, -0.0286,  0.1156, -0.0541,  0.0994,  0.0788,  0.0431, -0.0418,\n",
       "                       -0.0486, -0.0910,  0.0735, -0.1237, -0.1112,  0.1149, -0.0129,  0.0143,\n",
       "                        0.0922, -0.0246,  0.0426,  0.0186,  0.0463, -0.0109, -0.1016, -0.0284,\n",
       "                        0.0638, -0.1373, -0.0621, -0.0665, -0.0205, -0.0865, -0.0989, -0.0137,\n",
       "                        0.0630,  0.1460, -0.1109, -0.0803,  0.0968,  0.1064, -0.0773, -0.0749,\n",
       "                       -0.0488, -0.0287,  0.0710, -0.0801,  0.0811, -0.0284, -0.1675,  0.1006],\n",
       "                      [ 0.0857,  0.0753,  0.1130, -0.1855, -0.0801, -0.1532,  0.0878, -0.2008,\n",
       "                       -0.0347, -0.1159, -0.1837, -0.1031, -0.0214, -0.1546, -0.0721, -0.1990,\n",
       "                        0.0963, -0.2569,  0.0781, -0.0992,  0.0170, -0.1286,  0.0941,  0.0863,\n",
       "                       -0.1601, -0.1111, -0.0023,  0.1186,  0.1198, -0.0255,  0.0712, -0.0610,\n",
       "                        0.1077,  0.0642,  0.0150, -0.2254, -0.1500, -0.2810,  0.0436, -0.2686,\n",
       "                       -0.1549,  0.0679, -0.1568,  0.0677, -0.1039, -0.1003, -0.0851, -0.1274,\n",
       "                       -0.0434,  0.0967, -0.1747, -0.2355,  0.1338, -0.2851, -0.0698, -0.2035,\n",
       "                        0.1215, -0.0783,  0.1304, -0.1962,  0.0994, -0.0532, -0.1898, -0.0119],\n",
       "                      [-0.0858, -0.0416, -0.0215, -0.1624,  0.0627,  0.1004,  0.0276, -0.2543,\n",
       "                       -0.0423,  0.0506,  0.0057,  0.0915,  0.0984,  0.0601, -0.0772,  0.0222,\n",
       "                       -0.0173, -0.2298,  0.1374,  0.0497,  0.0377,  0.0945, -0.0178, -0.1562,\n",
       "                       -0.0267, -0.1693, -0.1642, -0.1481, -0.1821, -0.0350,  0.1058, -0.0946,\n",
       "                       -0.1251, -0.1231, -0.1609, -0.1277, -0.1389, -0.1314, -0.2194, -0.2137,\n",
       "                        0.0714, -0.1050, -0.1648, -0.1084,  0.0625, -0.0253,  0.0707,  0.1035,\n",
       "                        0.0599,  0.0176,  0.0446,  0.0299, -0.0825, -0.1064, -0.1142,  0.0148,\n",
       "                       -0.0734, -0.0546, -0.1053,  0.0642, -0.2088,  0.1063, -0.0933,  0.1197],\n",
       "                      [-0.0134,  0.0760, -0.1211,  0.0070, -0.0175, -0.0365, -0.1922, -0.2563,\n",
       "                        0.0534, -0.0212, -0.0008, -0.1416, -0.1589, -0.0042,  0.0883, -0.0961,\n",
       "                       -0.0317, -0.2198,  0.0158,  0.0335,  0.0674,  0.0078,  0.0688,  0.0721,\n",
       "                       -0.2162, -0.0075,  0.0822,  0.0292, -0.1589,  0.1000,  0.0977,  0.0782,\n",
       "                        0.1015,  0.0857,  0.0489, -0.1420, -0.1275, -0.1193, -0.1113, -0.0526,\n",
       "                        0.0150, -0.1370, -0.2774,  0.0327, -0.1375, -0.0002, -0.1233, -0.1955,\n",
       "                        0.0566,  0.1337, -0.2563,  0.0341,  0.1015, -0.0544, -0.1309, -0.1557,\n",
       "                        0.0041, -0.0652,  0.0906, -0.2606, -0.0249,  0.0901, -0.1883, -0.0567],\n",
       "                      [-0.1156,  0.0127, -0.0679, -0.0107,  0.0707,  0.0851,  0.0194, -0.3109,\n",
       "                        0.0748, -0.1200, -0.0369, -0.0907,  0.1119,  0.0932,  0.0641,  0.0916,\n",
       "                       -0.0653, -0.1525,  0.0004,  0.0472, -0.2345,  0.0886,  0.0657,  0.0304,\n",
       "                       -0.0021, -0.0955, -0.1387, -0.0738, -0.0955, -0.0743,  0.0999,  0.0733,\n",
       "                        0.0748,  0.0535, -0.1409, -0.3153, -0.0932,  0.0061, -0.1384, -0.0994,\n",
       "                       -0.0901, -0.0320, -0.1124, -0.0021, -0.1406,  0.0050,  0.0842, -0.0119,\n",
       "                        0.0579,  0.0013, -0.0634,  0.0561, -0.0293, -0.1703, -0.0530,  0.0455,\n",
       "                       -0.0374, -0.0635, -0.0602,  0.1084, -0.0911,  0.1107, -0.1288,  0.1169],\n",
       "                      [ 0.1062, -0.1636,  0.1208,  0.0309, -0.3568, -0.0703,  0.0870,  0.0600,\n",
       "                       -0.0540, -0.0246, -0.3085,  0.1144,  0.0486, -0.3503, -0.1154, -0.0891,\n",
       "                       -0.0814,  0.0707, -0.2226, -0.1204,  0.0260, -0.1382, -0.2542, -0.1376,\n",
       "                        0.1060,  0.0610, -0.0816,  0.0547,  0.0916, -0.4161, -0.3085, -0.0539,\n",
       "                       -0.3173,  0.0745, -0.0522,  0.1155,  0.1513,  0.1013, -0.0240,  0.0982,\n",
       "                       -0.1311,  0.1103,  0.0919, -0.2370,  0.0377,  0.0419, -0.2149, -0.0978,\n",
       "                       -0.4136, -0.2349,  0.0920,  0.0472, -0.1134, -0.0470,  0.0244,  0.1063,\n",
       "                       -0.0688, -0.0099, -0.1779,  0.1017, -0.1651, -0.2858,  0.1326, -0.2047],\n",
       "                      [-0.1490, -0.0905, -0.0654, -0.1359,  0.0622,  0.0832,  0.0209, -0.1029,\n",
       "                       -0.0593,  0.0514,  0.0468,  0.0303,  0.0831,  0.0773, -0.0950,  0.0749,\n",
       "                        0.0803, -0.2039,  0.0771,  0.0389,  0.0904,  0.0806,  0.0298, -0.0925,\n",
       "                        0.0123, -0.1999,  0.0531, -0.1356, -0.1943,  0.1042,  0.1047,  0.0064,\n",
       "                        0.0447, -0.0494,  0.0027, -0.0053,  0.0122, -0.0126, -0.1840, -0.1635,\n",
       "                        0.0446, -0.0950, -0.1555, -0.0775, -0.0522, -0.0193,  0.0777, -0.0149,\n",
       "                        0.0460,  0.1206, -0.1046,  0.0421,  0.0787,  0.0718, -0.0655, -0.0282,\n",
       "                       -0.0605, -0.0991,  0.0511,  0.0825,  0.0541,  0.1023, -0.1782,  0.0892],\n",
       "                      [ 0.1106, -0.0268, -0.1098,  0.1007, -0.4062, -0.1345,  0.0277,  0.0527,\n",
       "                        0.1099, -0.2322, -0.3244, -0.0527, -0.1899, -0.2812, -0.0941, -0.1218,\n",
       "                       -0.2631,  0.0875, -0.2557, -0.4220,  0.0361, -0.0413, -0.3631, -0.0076,\n",
       "                       -0.0768,  0.1089,  0.1062,  0.0795,  0.1128, -0.2396, -0.2573,  0.0342,\n",
       "                       -0.1975, -0.1058,  0.0613,  0.0099,  0.0473, -0.0566,  0.0252,  0.1189,\n",
       "                       -0.2440,  0.1287,  0.1189,  0.0019, -0.0936,  0.0138, -0.1863, -0.1819,\n",
       "                       -0.3938, -0.3194,  0.0507,  0.0855,  0.0771, -0.0937, -0.0583,  0.1303,\n",
       "                        0.0225, -0.0367, -0.1849,  0.0852, -0.1910, -0.1684,  0.1306, -0.1538],\n",
       "                      [ 0.0763,  0.0928, -0.0389,  0.1050, -0.1058, -0.1483, -0.1894, -0.0094,\n",
       "                       -0.1523,  0.1148, -0.1551,  0.1410,  0.0827, -0.1421, -0.1478,  0.1056,\n",
       "                        0.1563,  0.0536, -0.0253, -0.0035,  0.0676, -0.1505, -0.1582, -0.0390,\n",
       "                        0.0576, -0.0788,  0.0518, -0.1328, -0.0999, -0.0624,  0.0629,  0.0475,\n",
       "                        0.0170,  0.1199, -0.2078, -0.1221,  0.1727,  0.1371,  0.0663,  0.0756,\n",
       "                        0.0731, -0.0752, -0.0641, -0.1925, -0.0649, -0.1103,  0.0530, -0.0530,\n",
       "                       -0.1240,  0.0011, -0.2639, -0.0578, -0.0744, -0.0931, -0.1157, -0.0773,\n",
       "                       -0.1538,  0.1321, -0.1976,  0.0666, -0.2324,  0.0727,  0.0678, -0.1046],\n",
       "                      [-0.0226, -0.2254, -0.0450,  0.0794, -0.2886,  0.0111,  0.1012,  0.0512,\n",
       "                        0.1198, -0.0061, -0.2619, -0.1190, -0.0456, -0.1385, -0.0920, -0.0660,\n",
       "                       -0.0566,  0.0969, -0.2164, -0.3657, -0.1778,  0.0071, -0.1663, -0.1205,\n",
       "                       -0.0785,  0.0971,  0.0848, -0.0668,  0.1209, -0.3313, -0.1475, -0.2362,\n",
       "                       -0.0910, -0.0608,  0.0612,  0.1051, -0.0187,  0.0689,  0.0525,  0.0597,\n",
       "                       -0.3200,  0.1332,  0.0523, -0.0295,  0.0218,  0.1027, -0.2343, -0.0113,\n",
       "                       -0.2803, -0.2630,  0.0847,  0.0847, -0.1850,  0.0628,  0.0734,  0.1300,\n",
       "                        0.0478,  0.0504, -0.1826, -0.1174, -0.0945, -0.3334,  0.1332, -0.0719]])),\n",
       "             ('output.bias',\n",
       "              tensor([ 0.0017, -0.2102,  0.1623,  0.2666, -0.2091,  0.1653,  0.2092,  0.1062,\n",
       "                      -0.1515, -0.3002]))])"
      ]
     },
     "execution_count": 43,
     "metadata": {},
     "output_type": "execute_result"
    }
   ],
   "source": [
    "# just to confirm they are the same weights and biases:\n",
    "state_dict_2"
   ]
  },
  {
   "cell_type": "markdown",
   "metadata": {},
   "source": [
    "To load these weights and biases into the network we are currently working with, we should declare:"
   ]
  },
  {
   "cell_type": "code",
   "execution_count": 44,
   "metadata": {},
   "outputs": [],
   "source": [
    "model.load_state_dict(state_dict_2)"
   ]
  },
  {
   "cell_type": "markdown",
   "metadata": {},
   "source": [
    "This is very useful if we create a new model with randomly initialized weights and biases. If we pass an existing `state_dict()` then the random parameters are replaced by ones we had trained previously.\n",
    "\n",
    "Using pre-trained weights and biases seems straightforward but be careful about one thing: \n",
    "\n",
    "**Loading the `state_dict()` works only if the model architecture is exactly the same as the checkpoint \n",
    "architecture.** \n",
    "\n",
    "If we create a different architecture, this will NOT work."
   ]
  },
  {
   "cell_type": "code",
   "execution_count": 45,
   "metadata": {},
   "outputs": [
    {
     "ename": "RuntimeError",
     "evalue": "Error(s) in loading state_dict for Network:\n\tsize mismatch for hidden_layers.0.weight: copying a param of torch.Size([400, 784]) from checkpoint, where the shape is torch.Size([512, 784]) in current model.\n\tsize mismatch for hidden_layers.0.bias: copying a param of torch.Size([400]) from checkpoint, where the shape is torch.Size([512]) in current model.\n\tsize mismatch for hidden_layers.1.weight: copying a param of torch.Size([200, 400]) from checkpoint, where the shape is torch.Size([256, 512]) in current model.\n\tsize mismatch for hidden_layers.1.bias: copying a param of torch.Size([200]) from checkpoint, where the shape is torch.Size([256]) in current model.\n\tsize mismatch for hidden_layers.2.weight: copying a param of torch.Size([100, 200]) from checkpoint, where the shape is torch.Size([128, 256]) in current model.\n\tsize mismatch for hidden_layers.2.bias: copying a param of torch.Size([100]) from checkpoint, where the shape is torch.Size([128]) in current model.\n\tsize mismatch for hidden_layers.3.weight: copying a param of torch.Size([50, 100]) from checkpoint, where the shape is torch.Size([64, 128]) in current model.\n\tsize mismatch for hidden_layers.3.bias: copying a param of torch.Size([50]) from checkpoint, where the shape is torch.Size([64]) in current model.\n\tsize mismatch for output.weight: copying a param of torch.Size([10, 50]) from checkpoint, where the shape is torch.Size([10, 64]) in current model.",
     "output_type": "error",
     "traceback": [
      "\u001b[0;31m---------------------------------------------------------------------------\u001b[0m",
      "\u001b[0;31mRuntimeError\u001b[0m                              Traceback (most recent call last)",
      "\u001b[0;32m<ipython-input-45-ad553ab2f03f>\u001b[0m in \u001b[0;36m<module>\u001b[0;34m\u001b[0m\n\u001b[1;32m      1\u001b[0m \u001b[0mmodel\u001b[0m \u001b[0;34m=\u001b[0m \u001b[0mNetwork\u001b[0m\u001b[0;34m(\u001b[0m\u001b[0;36m784\u001b[0m\u001b[0;34m,\u001b[0m \u001b[0;36m10\u001b[0m\u001b[0;34m,\u001b[0m \u001b[0;34m[\u001b[0m\u001b[0;36m400\u001b[0m\u001b[0;34m,\u001b[0m \u001b[0;36m200\u001b[0m\u001b[0;34m,\u001b[0m \u001b[0;36m100\u001b[0m\u001b[0;34m,\u001b[0m \u001b[0;36m50\u001b[0m\u001b[0;34m]\u001b[0m\u001b[0;34m)\u001b[0m\u001b[0;34m\u001b[0m\u001b[0m\n\u001b[1;32m      2\u001b[0m \u001b[0;31m# 4 hidden layers with 400, 200, 100, and 50 units\u001b[0m\u001b[0;34m\u001b[0m\u001b[0;34m\u001b[0m\u001b[0m\n\u001b[0;32m----> 3\u001b[0;31m \u001b[0mmodel\u001b[0m\u001b[0;34m.\u001b[0m\u001b[0mload_state_dict\u001b[0m\u001b[0;34m(\u001b[0m\u001b[0mstate_dict_2\u001b[0m\u001b[0;34m)\u001b[0m\u001b[0;34m\u001b[0m\u001b[0m\n\u001b[0m",
      "\u001b[0;32m~/Desktop/Deep-learning-pytorch/.env/lib/python3.5/site-packages/torch/nn/modules/module.py\u001b[0m in \u001b[0;36mload_state_dict\u001b[0;34m(self, state_dict, strict)\u001b[0m\n\u001b[1;32m    717\u001b[0m         \u001b[0;32mif\u001b[0m \u001b[0mlen\u001b[0m\u001b[0;34m(\u001b[0m\u001b[0merror_msgs\u001b[0m\u001b[0;34m)\u001b[0m \u001b[0;34m>\u001b[0m \u001b[0;36m0\u001b[0m\u001b[0;34m:\u001b[0m\u001b[0;34m\u001b[0m\u001b[0m\n\u001b[1;32m    718\u001b[0m             raise RuntimeError('Error(s) in loading state_dict for {}:\\n\\t{}'.format(\n\u001b[0;32m--> 719\u001b[0;31m                                self.__class__.__name__, \"\\n\\t\".join(error_msgs)))\n\u001b[0m\u001b[1;32m    720\u001b[0m \u001b[0;34m\u001b[0m\u001b[0m\n\u001b[1;32m    721\u001b[0m     \u001b[0;32mdef\u001b[0m \u001b[0mparameters\u001b[0m\u001b[0;34m(\u001b[0m\u001b[0mself\u001b[0m\u001b[0;34m)\u001b[0m\u001b[0;34m:\u001b[0m\u001b[0;34m\u001b[0m\u001b[0m\n",
      "\u001b[0;31mRuntimeError\u001b[0m: Error(s) in loading state_dict for Network:\n\tsize mismatch for hidden_layers.0.weight: copying a param of torch.Size([400, 784]) from checkpoint, where the shape is torch.Size([512, 784]) in current model.\n\tsize mismatch for hidden_layers.0.bias: copying a param of torch.Size([400]) from checkpoint, where the shape is torch.Size([512]) in current model.\n\tsize mismatch for hidden_layers.1.weight: copying a param of torch.Size([200, 400]) from checkpoint, where the shape is torch.Size([256, 512]) in current model.\n\tsize mismatch for hidden_layers.1.bias: copying a param of torch.Size([200]) from checkpoint, where the shape is torch.Size([256]) in current model.\n\tsize mismatch for hidden_layers.2.weight: copying a param of torch.Size([100, 200]) from checkpoint, where the shape is torch.Size([128, 256]) in current model.\n\tsize mismatch for hidden_layers.2.bias: copying a param of torch.Size([100]) from checkpoint, where the shape is torch.Size([128]) in current model.\n\tsize mismatch for hidden_layers.3.weight: copying a param of torch.Size([50, 100]) from checkpoint, where the shape is torch.Size([64, 128]) in current model.\n\tsize mismatch for hidden_layers.3.bias: copying a param of torch.Size([50]) from checkpoint, where the shape is torch.Size([64]) in current model.\n\tsize mismatch for output.weight: copying a param of torch.Size([10, 50]) from checkpoint, where the shape is torch.Size([10, 64]) in current model."
     ]
    }
   ],
   "source": [
    "model = Network(784, 10, [400, 200, 100, 50])\n",
    "# 4 hidden layers with 400, 200, 100, and 50 units\n",
    "model.load_state_dict(state_dict_2)"
   ]
  },
  {
   "cell_type": "markdown",
   "metadata": {},
   "source": [
    "This means we need to rebuild the model exactly as it was when we trained it. For this purpose, it's helpful to save the information about the model architecture in the checkpoint along with the `state_dict()`. To do this, we build a dictionary with all information we need to rebuild the model completely:"
   ]
  },
  {
   "cell_type": "code",
   "execution_count": 46,
   "metadata": {},
   "outputs": [],
   "source": [
    "checkpoint = {'input_size': 784,\n",
    "             'output_size': 10,\n",
    "             'hidden_layers': [each.out_features for each in model.hidden_layers],\n",
    "             'state_dict': model.state_dict()}"
   ]
  },
  {
   "cell_type": "code",
   "execution_count": 47,
   "metadata": {},
   "outputs": [],
   "source": [
    "torch.save(checkpoint, 'checkpoint.pth')"
   ]
  },
  {
   "cell_type": "code",
   "execution_count": 48,
   "metadata": {},
   "outputs": [
    {
     "data": {
      "text/plain": [
       "784"
      ]
     },
     "execution_count": 48,
     "metadata": {},
     "output_type": "execute_result"
    }
   ],
   "source": [
    "checkpoint['input_size']"
   ]
  },
  {
   "cell_type": "markdown",
   "metadata": {},
   "source": [
    "Now the checkpoint has all information to rebuild the trained model. We can easily make that a function. Similarly, we can write a function to load checkpoints."
   ]
  },
  {
   "cell_type": "code",
   "execution_count": 49,
   "metadata": {},
   "outputs": [],
   "source": [
    "def load_checkpoint(filepath):\n",
    "    checkpoint = torch.load(filepath)\n",
    "    model = Network(checkpoint['input_size'],\n",
    "                    checkpoint['output_size'],\n",
    "                    checkpoint['hidden_layers'])\n",
    "    model.load_state_dict(checkpoint['state_dict'])\n",
    "    return model"
   ]
  },
  {
   "cell_type": "code",
   "execution_count": 50,
   "metadata": {},
   "outputs": [
    {
     "name": "stdout",
     "output_type": "stream",
     "text": [
      "Network(\n",
      "  (hidden_layers): ModuleList(\n",
      "    (0): Linear(in_features=784, out_features=400, bias=True)\n",
      "    (1): Linear(in_features=400, out_features=200, bias=True)\n",
      "    (2): Linear(in_features=200, out_features=100, bias=True)\n",
      "    (3): Linear(in_features=100, out_features=50, bias=True)\n",
      "  )\n",
      "  (output): Linear(in_features=50, out_features=10, bias=True)\n",
      "  (dropout): Dropout(p=0.5)\n",
      ")\n"
     ]
    }
   ],
   "source": [
    "model = load_checkpoint('checkpoint.pth')\n",
    "print(model)"
   ]
  },
  {
   "cell_type": "code",
   "execution_count": null,
   "metadata": {},
   "outputs": [],
   "source": []
  }
 ],
 "metadata": {
  "kernelspec": {
   "display_name": "Python 3",
   "language": "python",
   "name": "python3"
  },
  "language_info": {
   "codemirror_mode": {
    "name": "ipython",
    "version": 3
   },
   "file_extension": ".py",
   "mimetype": "text/x-python",
   "name": "python",
   "nbconvert_exporter": "python",
   "pygments_lexer": "ipython3",
   "version": "3.5.2"
  }
 },
 "nbformat": 4,
 "nbformat_minor": 2
}

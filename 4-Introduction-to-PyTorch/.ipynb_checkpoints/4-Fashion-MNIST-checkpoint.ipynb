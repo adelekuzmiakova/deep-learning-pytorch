{
 "cells": [
  {
   "cell_type": "markdown",
   "metadata": {},
   "source": [
    "# Classifying Fashion-MNIST\n",
    "\n",
    "Now it's your turn to build and train a neural network. You'll be using the [Fashion-MNIST dataset](https://github.com/zalandoresearch/fashion-mnist), a drop-in replacement for the MNIST dataset. MNIST is actually quite trivial with neural networks where you can easily achieve better than 97% accuracy. Fashion-MNIST is a set of 28x28 greyscale images of clothes. It's more complex than MNIST, so it's a better representation of the actual performance of your network, and a better representation of datasets you'll use in the real world.\n",
    "\n",
    "<img src='assets/fashion-mnist-sprite.png' width=500px>\n",
    "\n",
    "In this notebook, you'll build your own neural network. For the most part, you could just copy and paste the code from Part 3, but you wouldn't be learning. It's important for you to write the code yourself and get it to work. Feel free to consult the previous notebooks though as you work through this.\n",
    "\n",
    "First off, let's load the dataset through torchvision."
   ]
  },
  {
   "cell_type": "code",
   "execution_count": 35,
   "metadata": {},
   "outputs": [],
   "source": [
    "import torch\n",
    "from torchvision import datasets, transforms\n",
    "%matplotlib inline\n",
    "%config InlineBackend.figure_format = 'retina'\n",
    "import helper"
   ]
  },
  {
   "cell_type": "code",
   "execution_count": 36,
   "metadata": {},
   "outputs": [],
   "source": [
    "# Define a transform but don't use normalization\n",
    "#transform = transforms.Compose([transforms.ToTensor(),\n",
    "#                                transforms.Normalize((0.5, 0.5, 0.5), (0.5, 0.5, 0.5))])\n",
    "\n",
    "transform = transforms.Compose([transforms.ToTensor()])\n",
    "\n",
    "# Download and load the training data\n",
    "trainset = datasets.FashionMNIST('~/.pytorch/F_MNIST_data/', download=True, train=True, transform=transform)\n",
    "trainloader = torch.utils.data.DataLoader(trainset, batch_size=64, shuffle=True)\n",
    "\n",
    "# Download and load the test data\n",
    "testset = datasets.FashionMNIST('~/.pytorch/F_MNIST_data/', download=True, train=False, transform=transform)\n",
    "testloader = torch.utils.data.DataLoader(testset, batch_size=64, shuffle=True)"
   ]
  },
  {
   "cell_type": "code",
   "execution_count": 37,
   "metadata": {},
   "outputs": [
    {
     "data": {
      "text/plain": [
       "torch.Size([1, 28, 28])"
      ]
     },
     "execution_count": 37,
     "metadata": {},
     "output_type": "execute_result"
    }
   ],
   "source": [
    "image, label = next(iter(trainloader))\n",
    "image.mean(dim = 0).shape"
   ]
  },
  {
   "cell_type": "code",
   "execution_count": 38,
   "metadata": {},
   "outputs": [
    {
     "name": "stdout",
     "output_type": "stream",
     "text": [
      "tensor([[[0.0000, 0.0000, 0.0001, 0.0000, 0.0002, 0.0006, 0.0001, 0.0073,\n",
      "          0.0310, 0.0691, 0.1556, 0.2370, 0.2363, 0.2232, 0.2300, 0.2507,\n",
      "          0.2485, 0.1969, 0.1178, 0.0697, 0.0333, 0.0143, 0.0001, 0.0001,\n",
      "          0.0004, 0.0000, 0.0000, 0.0000],\n",
      "         [0.0000, 0.0000, 0.0000, 0.0001, 0.0002, 0.0001, 0.0354, 0.0858,\n",
      "          0.1452, 0.2271, 0.3698, 0.4597, 0.4971, 0.5070, 0.4844, 0.5115,\n",
      "          0.4790, 0.4007, 0.2778, 0.2028, 0.1394, 0.0676, 0.0238, 0.0200,\n",
      "          0.0059, 0.0000, 0.0006, 0.0000],\n",
      "         [0.0000, 0.0000, 0.0000, 0.0002, 0.0050, 0.0564, 0.1034, 0.1383,\n",
      "          0.2014, 0.3023, 0.3805, 0.4377, 0.4613, 0.4714, 0.4599, 0.4765,\n",
      "          0.4497, 0.3988, 0.3204, 0.2416, 0.1823, 0.1331, 0.1051, 0.0591,\n",
      "          0.0259, 0.0000, 0.0005, 0.0000],\n",
      "         [0.0016, 0.0084, 0.0070, 0.0082, 0.0545, 0.0893, 0.1223, 0.1835,\n",
      "          0.2661, 0.3264, 0.3938, 0.4342, 0.4254, 0.4384, 0.4612, 0.4514,\n",
      "          0.4564, 0.4374, 0.3743, 0.2958, 0.2563, 0.1944, 0.1513, 0.0994,\n",
      "          0.0537, 0.0117, 0.0098, 0.0011],\n",
      "         [0.0058, 0.0132, 0.0113, 0.0342, 0.0683, 0.1007, 0.1802, 0.2324,\n",
      "          0.2905, 0.3560, 0.3929, 0.4494, 0.4593, 0.4659, 0.4829, 0.4804,\n",
      "          0.4731, 0.4613, 0.4231, 0.3716, 0.3042, 0.2578, 0.1823, 0.1149,\n",
      "          0.0758, 0.0354, 0.0183, 0.0051],\n",
      "         [0.0070, 0.0110, 0.0105, 0.0458, 0.0684, 0.1393, 0.2169, 0.2532,\n",
      "          0.2888, 0.3586, 0.3879, 0.4305, 0.4680, 0.4495, 0.4809, 0.4733,\n",
      "          0.4763, 0.4924, 0.4494, 0.4191, 0.3578, 0.3001, 0.2126, 0.1618,\n",
      "          0.0892, 0.0588, 0.0354, 0.0107],\n",
      "         [0.0081, 0.0115, 0.0168, 0.0498, 0.0708, 0.1744, 0.2400, 0.2645,\n",
      "          0.3061, 0.3547, 0.3785, 0.4135, 0.4453, 0.4458, 0.4661, 0.4487,\n",
      "          0.4588, 0.4604, 0.4415, 0.3961, 0.3528, 0.3081, 0.2482, 0.1725,\n",
      "          0.1001, 0.0805, 0.0653, 0.0148],\n",
      "         [0.0085, 0.0146, 0.0214, 0.0602, 0.1058, 0.2159, 0.2757, 0.2850,\n",
      "          0.3328, 0.3515, 0.4067, 0.4509, 0.4675, 0.4642, 0.4620, 0.4773,\n",
      "          0.4687, 0.4850, 0.4852, 0.4692, 0.4184, 0.3512, 0.2868, 0.2016,\n",
      "          0.1103, 0.0898, 0.0812, 0.0141],\n",
      "         [0.0153, 0.0224, 0.0347, 0.0719, 0.1172, 0.2382, 0.2672, 0.3039,\n",
      "          0.3371, 0.3434, 0.4355, 0.4717, 0.4927, 0.4848, 0.5059, 0.5000,\n",
      "          0.5080, 0.5229, 0.5273, 0.5132, 0.4559, 0.3760, 0.3261, 0.2551,\n",
      "          0.1700, 0.1282, 0.1116, 0.0394],\n",
      "         [0.0129, 0.0227, 0.0477, 0.0713, 0.1234, 0.2493, 0.2786, 0.3058,\n",
      "          0.3392, 0.3656, 0.4528, 0.4673, 0.4582, 0.4445, 0.4680, 0.5267,\n",
      "          0.5643, 0.5424, 0.5357, 0.5276, 0.4501, 0.3736, 0.3354, 0.2759,\n",
      "          0.2043, 0.1745, 0.1139, 0.0442],\n",
      "         [0.0170, 0.0370, 0.0403, 0.0614, 0.1281, 0.2507, 0.3004, 0.3246,\n",
      "          0.3480, 0.3794, 0.4977, 0.4811, 0.4789, 0.4553, 0.4958, 0.6121,\n",
      "          0.5811, 0.5725, 0.5450, 0.4992, 0.4632, 0.4004, 0.3917, 0.2985,\n",
      "          0.1994, 0.1848, 0.1204, 0.0363],\n",
      "         [0.0123, 0.0361, 0.0317, 0.0708, 0.1430, 0.2547, 0.2824, 0.3162,\n",
      "          0.3393, 0.3880, 0.5011, 0.5039, 0.4997, 0.5036, 0.5020, 0.5881,\n",
      "          0.5792, 0.5967, 0.5341, 0.4971, 0.4680, 0.3963, 0.3964, 0.3219,\n",
      "          0.2398, 0.2048, 0.1482, 0.0360],\n",
      "         [0.0167, 0.0342, 0.0455, 0.0805, 0.1534, 0.2741, 0.2962, 0.3400,\n",
      "          0.3393, 0.3980, 0.5093, 0.5407, 0.5513, 0.5147, 0.4950, 0.6077,\n",
      "          0.6174, 0.6305, 0.5325, 0.4826, 0.5007, 0.4431, 0.4172, 0.3654,\n",
      "          0.2800, 0.2261, 0.1624, 0.0450],\n",
      "         [0.0178, 0.0280, 0.0445, 0.1004, 0.1711, 0.2835, 0.3067, 0.3403,\n",
      "          0.3485, 0.3949, 0.5469, 0.5599, 0.5693, 0.5401, 0.5161, 0.6247,\n",
      "          0.6096, 0.6369, 0.5581, 0.4741, 0.4768, 0.4714, 0.4653, 0.3922,\n",
      "          0.2767, 0.2103, 0.1763, 0.0438],\n",
      "         [0.0167, 0.0262, 0.0531, 0.0928, 0.1838, 0.2949, 0.3273, 0.3438,\n",
      "          0.3357, 0.4136, 0.5339, 0.5563, 0.6158, 0.5652, 0.5078, 0.6215,\n",
      "          0.6058, 0.6307, 0.5331, 0.4568, 0.4798, 0.4843, 0.4515, 0.3889,\n",
      "          0.2737, 0.2064, 0.1765, 0.0515],\n",
      "         [0.0141, 0.0275, 0.0622, 0.1095, 0.1833, 0.3025, 0.3400, 0.3588,\n",
      "          0.3483, 0.4354, 0.5564, 0.5863, 0.6377, 0.5806, 0.5361, 0.6065,\n",
      "          0.6381, 0.6637, 0.5526, 0.4559, 0.4741, 0.4773, 0.4296, 0.3806,\n",
      "          0.2751, 0.2188, 0.1655, 0.0567],\n",
      "         [0.0170, 0.0641, 0.0851, 0.1360, 0.2213, 0.3126, 0.3555, 0.3482,\n",
      "          0.3684, 0.4771, 0.5631, 0.5873, 0.6208, 0.5668, 0.5363, 0.6470,\n",
      "          0.6356, 0.6478, 0.5534, 0.4399, 0.4700, 0.4697, 0.4268, 0.3805,\n",
      "          0.2741, 0.2261, 0.1678, 0.0559],\n",
      "         [0.0237, 0.0752, 0.1003, 0.1440, 0.2382, 0.3134, 0.3840, 0.3737,\n",
      "          0.3940, 0.4952, 0.5656, 0.5968, 0.6135, 0.5517, 0.5243, 0.6597,\n",
      "          0.6362, 0.6339, 0.5347, 0.4649, 0.4437, 0.4615, 0.4384, 0.3835,\n",
      "          0.2742, 0.2160, 0.1632, 0.0481],\n",
      "         [0.0317, 0.0725, 0.1214, 0.1477, 0.2461, 0.3475, 0.3946, 0.3956,\n",
      "          0.4316, 0.5213, 0.5803, 0.5843, 0.6192, 0.5521, 0.5536, 0.6214,\n",
      "          0.6230, 0.6458, 0.5408, 0.4646, 0.3996, 0.4423, 0.4138, 0.3637,\n",
      "          0.2580, 0.1996, 0.1517, 0.0468],\n",
      "         [0.0342, 0.0613, 0.1064, 0.1612, 0.2725, 0.3857, 0.4276, 0.3952,\n",
      "          0.4278, 0.5046, 0.5659, 0.5903, 0.5975, 0.5441, 0.5362, 0.5890,\n",
      "          0.6106, 0.6215, 0.5318, 0.4487, 0.3737, 0.4320, 0.4352, 0.3909,\n",
      "          0.2919, 0.2112, 0.1703, 0.0539],\n",
      "         [0.0298, 0.0706, 0.1097, 0.1794, 0.2977, 0.3852, 0.4044, 0.3974,\n",
      "          0.4588, 0.5130, 0.5753, 0.6325, 0.6311, 0.5676, 0.5267, 0.5804,\n",
      "          0.6116, 0.5773, 0.5113, 0.4408, 0.3366, 0.4055, 0.4245, 0.3703,\n",
      "          0.2727, 0.1971, 0.1553, 0.0440],\n",
      "         [0.0267, 0.0781, 0.1201, 0.1833, 0.2942, 0.3611, 0.3818, 0.3604,\n",
      "          0.4270, 0.4850, 0.5631, 0.6119, 0.6009, 0.5237, 0.4839, 0.5440,\n",
      "          0.5752, 0.5580, 0.4773, 0.4276, 0.3281, 0.3754, 0.3939, 0.3433,\n",
      "          0.2588, 0.1727, 0.1254, 0.0322],\n",
      "         [0.0171, 0.0657, 0.1036, 0.1616, 0.2679, 0.3353, 0.3427, 0.3381,\n",
      "          0.3819, 0.4279, 0.5099, 0.5716, 0.5550, 0.4890, 0.4419, 0.4922,\n",
      "          0.5257, 0.4925, 0.4102, 0.3570, 0.2753, 0.3061, 0.3504, 0.3009,\n",
      "          0.2154, 0.1266, 0.0906, 0.0118],\n",
      "         [0.0236, 0.0773, 0.0900, 0.1350, 0.2542, 0.3183, 0.3132, 0.2966,\n",
      "          0.3599, 0.4079, 0.4850, 0.5454, 0.5442, 0.4605, 0.4078, 0.4388,\n",
      "          0.4703, 0.4437, 0.3569, 0.3286, 0.2606, 0.2669, 0.3208, 0.2710,\n",
      "          0.1916, 0.1131, 0.0683, 0.0085],\n",
      "         [0.0111, 0.0427, 0.0563, 0.1096, 0.2259, 0.2912, 0.2845, 0.2661,\n",
      "          0.3303, 0.3745, 0.4408, 0.5002, 0.4918, 0.3852, 0.3318, 0.3768,\n",
      "          0.4375, 0.3925, 0.3129, 0.2684, 0.2257, 0.2164, 0.2809, 0.2368,\n",
      "          0.1612, 0.0720, 0.0352, 0.0045],\n",
      "         [0.0000, 0.0063, 0.0358, 0.0775, 0.1873, 0.2650, 0.2474, 0.2072,\n",
      "          0.2559, 0.3013, 0.3596, 0.4167, 0.4025, 0.2933, 0.2737, 0.3175,\n",
      "          0.3545, 0.3420, 0.2629, 0.2141, 0.1803, 0.1743, 0.2540, 0.2230,\n",
      "          0.1330, 0.0616, 0.0263, 0.0050],\n",
      "         [0.0000, 0.0071, 0.0191, 0.0373, 0.1494, 0.2353, 0.2218, 0.1660,\n",
      "          0.1968, 0.2550, 0.3366, 0.3867, 0.3621, 0.2746, 0.2702, 0.3000,\n",
      "          0.3539, 0.3434, 0.2520, 0.1960, 0.1475, 0.1528, 0.2411, 0.2043,\n",
      "          0.1009, 0.0241, 0.0067, 0.0001],\n",
      "         [0.0000, 0.0014, 0.0025, 0.0123, 0.0656, 0.1471, 0.1320, 0.0788,\n",
      "          0.0752, 0.1002, 0.1648, 0.2258, 0.2156, 0.1534, 0.1431, 0.1891,\n",
      "          0.2172, 0.2015, 0.1300, 0.0866, 0.0724, 0.0923, 0.1502, 0.1182,\n",
      "          0.0363, 0.0018, 0.0008, 0.0000]]])\n",
      "tensor(0.2886)\n"
     ]
    }
   ],
   "source": [
    "# Average image in a batch:\n",
    "print(image.mean(dim = 0))\n",
    "print(image.mean(dim = 0).mean())"
   ]
  },
  {
   "cell_type": "code",
   "execution_count": 39,
   "metadata": {},
   "outputs": [
    {
     "data": {
      "image/png": "[encoded data removed]",
      "text/plain": [
       "<Figure size 432x288 with 1 Axes>"
      ]
     },
     "metadata": {
      "image/png": {
       "height": 233,
       "width": 233
      },
      "needs_background": "light"
     },
     "output_type": "display_data"
    }
   ],
   "source": [
    "helper.imshow(image[7,:]);"
   ]
  },
  {
   "cell_type": "markdown",
   "metadata": {},
   "source": [
    "## Building and train the network\n",
    "\n",
    "Here you should define your network. As with MNIST, each image is 28x28 which is a total of 784 pixels, and there are 10 classes. You should include at least one hidden layer. We suggest you use ReLU activations for the layers and to return the logits or log-softmax from the forward pass. It's up to you how many layers you add and the size of those layers.\n",
    "\n",
    "\n",
    "Now you should create your network and train it. First you'll want to define [the criterion](http://pytorch.org/docs/master/nn.html#loss-functions) ( something like `nn.CrossEntropyLoss`) and [the optimizer](http://pytorch.org/docs/master/optim.html) (typically `optim.SGD` or `optim.Adam`).\n",
    "\n",
    "Then write the training code. Remember the training pass is a fairly straightforward process:\n",
    "\n",
    "* Make a forward pass through the network to get the logits \n",
    "* Use the logits to calculate the loss\n",
    "* Perform a backward pass through the network with `loss.backward()` to calculate the gradients\n",
    "* Take a step with the optimizer to update the weights\n",
    "\n",
    "By adjusting the hyperparameters (hidden units, learning rate, etc), you should be able to get the training loss below 0.4."
   ]
  },
  {
   "cell_type": "code",
   "execution_count": 21,
   "metadata": {},
   "outputs": [
    {
     "data": {
      "text/plain": [
       "Sequential(\n",
       "  (0): Linear(in_features=784, out_features=128, bias=True)\n",
       "  (1): ReLU()\n",
       "  (2): Linear(in_features=128, out_features=64, bias=True)\n",
       "  (3): ReLU()\n",
       "  (4): Linear(in_features=64, out_features=10, bias=True)\n",
       "  (5): LogSoftmax()\n",
       ")"
      ]
     },
     "execution_count": 21,
     "metadata": {},
     "output_type": "execute_result"
    }
   ],
   "source": [
    "model = nn.Sequential(nn.Linear(784, 128),\n",
    "                      nn.ReLU(),\n",
    "                      nn.Linear(128, 64),\n",
    "                      nn.ReLU(),\n",
    "                      nn.Linear(64, 10),\n",
    "                      nn.LogSoftmax(dim=1))\n",
    "\n",
    "model"
   ]
  },
  {
   "cell_type": "code",
   "execution_count": 40,
   "metadata": {},
   "outputs": [
    {
     "data": {
      "text/plain": [
       "Network(\n",
       "  (fc1): Linear(in_features=784, out_features=128, bias=True)\n",
       "  (fc2): Linear(in_features=128, out_features=64, bias=True)\n",
       "  (fc3): Linear(in_features=64, out_features=10, bias=True)\n",
       "  (ReLU): ReLU()\n",
       "  (logsoftmax): LogSoftmax()\n",
       ")"
      ]
     },
     "execution_count": 40,
     "metadata": {},
     "output_type": "execute_result"
    }
   ],
   "source": [
    "class Network(nn.Module):\n",
    "    def __init__(self):\n",
    "        super().__init__()\n",
    "        \n",
    "        # Inputs to hidden layer linear transformation\n",
    "        self.fc1 = nn.Linear(784, 128)\n",
    "        self.fc2 = nn.Linear(128, 64)\n",
    "        self.fc3 = nn.Linear(64, 10)\n",
    "        # Define ReLU activation and log-softmax output \n",
    "        self.ReLU = nn.ReLU()\n",
    "        self.logsoftmax = nn.LogSoftmax(dim=1)\n",
    "        \n",
    "    def forward(self, x):\n",
    "        # Pass the input tensor through each of our operations\n",
    "        x = self.fc1(x)\n",
    "        x = self.ReLU(x)\n",
    "        x = self.fc2(x)\n",
    "        x = self.ReLU(x)\n",
    "        x = self.fc3(x)\n",
    "        x = self.logsoftmax(x)\n",
    "        return x\n",
    "    \n",
    "model = Network()\n",
    "model"
   ]
  },
  {
   "cell_type": "code",
   "execution_count": 41,
   "metadata": {},
   "outputs": [
    {
     "name": "stdout",
     "output_type": "stream",
     "text": [
      "Training loss for epoch # 0: 0.5567242155896067\n",
      "Training loss for epoch # 1: 0.39305563085178324\n",
      "Training loss for epoch # 2: 0.35347167230936\n",
      "Training loss for epoch # 3: 0.3264345419861233\n",
      "Training loss for epoch # 4: 0.30761918628107765\n",
      "Training loss for epoch # 5: 0.2919758186141438\n",
      "Training loss for epoch # 6: 0.28274577134834933\n",
      "Training loss for epoch # 7: 0.2688678942604868\n",
      "Training loss for epoch # 8: 0.2581090360864012\n",
      "Training loss for epoch # 9: 0.24851342532108586\n"
     ]
    }
   ],
   "source": [
    "criterion = nn.NLLLoss()\n",
    "optimizer = optim.Adam(model.parameters(), lr = 0.001)\n",
    "\n",
    "epochs = 10\n",
    "for e in range(epochs):\n",
    "    running_loss = 0\n",
    "    for images, labels in trainloader:\n",
    "        # Flatten MNIST images into a 784 long vector\n",
    "        images = images.view(images.shape[0], -1)\n",
    "    \n",
    "        # Training pass\n",
    "        optimizer.zero_grad()\n",
    "        # Forward pass, get our log-probabilities\n",
    "        log_prob = model.forward(images)\n",
    "        loss = criterion(log_prob, labels)\n",
    "        loss.backward()\n",
    "        optimizer.step()\n",
    "        \n",
    "        running_loss += loss.item()\n",
    "    else:\n",
    "        print(\"Training loss for epoch # \" + str(e) + \": \" + str(running_loss/len(trainloader)))"
   ]
  },
  {
   "cell_type": "code",
   "execution_count": 42,
   "metadata": {},
   "outputs": [
    {
     "data": {
      "image/png": "[encoded data removed]",
      "text/plain": [
       "<Figure size 432x648 with 2 Axes>"
      ]
     },
     "metadata": {
      "image/png": {
       "height": 206,
       "width": 423
      },
      "needs_background": "light"
     },
     "output_type": "display_data"
    }
   ],
   "source": [
    "# Test out your network!\n",
    "dataiter = iter(testloader)\n",
    "images, labels = dataiter.next()\n",
    "\n",
    "# look at a random image\n",
    "image_index = 3\n",
    "img = images[image_index]\n",
    "# Convert 2D image to 1D vector\n",
    "img = img.resize_(1, 784)\n",
    "\n",
    "# TODO: Calculate the class probabilities (softmax) for img\n",
    "ps = torch.exp(model.forward(img))\n",
    "\n",
    "# Plot the image and probabilities\n",
    "helper.view_classify(img.resize_(1, 28, 28), ps, version='Fashion')"
   ]
  },
  {
   "cell_type": "code",
   "execution_count": null,
   "metadata": {},
   "outputs": [],
   "source": []
  }
 ],
 "metadata": {
  "kernelspec": {
   "display_name": "Python 3",
   "language": "python",
   "name": "python3"
  },
  "language_info": {
   "codemirror_mode": {
    "name": "ipython",
    "version": 3
   },
   "file_extension": ".py",
   "mimetype": "text/x-python",
   "name": "python",
   "nbconvert_exporter": "python",
   "pygments_lexer": "ipython3",
   "version": "3.5.2"
  }
 },
 "nbformat": 4,
 "nbformat_minor": 2
}
